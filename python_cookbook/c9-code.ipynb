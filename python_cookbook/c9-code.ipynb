{
 "cells": [
  {
   "cell_type": "markdown",
   "metadata": {
    "colab_type": "text",
    "id": "8wX4miD0jldX"
   },
   "source": [
    "# Grouping for Aggregation, Filtration, and Transformation"
   ]
  },
  {
   "cell_type": "code",
   "execution_count": 1,
   "metadata": {
    "colab": {},
    "colab_type": "code",
    "id": "UXPAUlQajlda",
    "lines_to_next_cell": 2
   },
   "outputs": [],
   "source": [
    "import pandas as pd\n",
    "import numpy as np\n",
    "pd.set_option('max_columns', 4, 'max_rows', 10, 'max_colwidth', 12)"
   ]
  },
  {
   "cell_type": "markdown",
   "metadata": {
    "colab_type": "text",
    "id": "mQbY2FBujlde"
   },
   "source": [
    "## Introduction"
   ]
  },
  {
   "cell_type": "markdown",
   "metadata": {
    "colab_type": "text",
    "id": "u0nMN50Xjldf"
   },
   "source": [
    "### Defining an Aggregation"
   ]
  },
  {
   "cell_type": "markdown",
   "metadata": {
    "colab_type": "text",
    "id": "kwiWfv70jldg"
   },
   "source": [
    "### How to do it..."
   ]
  },
  {
   "cell_type": "code",
   "execution_count": 2,
   "metadata": {
    "colab": {},
    "colab_type": "code",
    "id": "YTMUKHUzjldh",
    "lines_to_next_cell": 2,
    "outputId": "5cb55869-5b37-43b8-d75d-14f6209c602d"
   },
   "outputs": [
    {
     "data": {
      "text/html": [
       "<div>\n",
       "<style scoped>\n",
       "    .dataframe tbody tr th:only-of-type {\n",
       "        vertical-align: middle;\n",
       "    }\n",
       "\n",
       "    .dataframe tbody tr th {\n",
       "        vertical-align: top;\n",
       "    }\n",
       "\n",
       "    .dataframe thead th {\n",
       "        text-align: right;\n",
       "    }\n",
       "</style>\n",
       "<table border=\"1\" class=\"dataframe\">\n",
       "  <thead>\n",
       "    <tr style=\"text-align: right;\">\n",
       "      <th></th>\n",
       "      <th>MONTH</th>\n",
       "      <th>DAY</th>\n",
       "      <th>...</th>\n",
       "      <th>DIVERTED</th>\n",
       "      <th>CANCELLED</th>\n",
       "    </tr>\n",
       "  </thead>\n",
       "  <tbody>\n",
       "    <tr>\n",
       "      <th>0</th>\n",
       "      <td>1</td>\n",
       "      <td>1</td>\n",
       "      <td>...</td>\n",
       "      <td>0</td>\n",
       "      <td>0</td>\n",
       "    </tr>\n",
       "    <tr>\n",
       "      <th>1</th>\n",
       "      <td>1</td>\n",
       "      <td>1</td>\n",
       "      <td>...</td>\n",
       "      <td>0</td>\n",
       "      <td>0</td>\n",
       "    </tr>\n",
       "    <tr>\n",
       "      <th>2</th>\n",
       "      <td>1</td>\n",
       "      <td>1</td>\n",
       "      <td>...</td>\n",
       "      <td>0</td>\n",
       "      <td>0</td>\n",
       "    </tr>\n",
       "    <tr>\n",
       "      <th>3</th>\n",
       "      <td>1</td>\n",
       "      <td>1</td>\n",
       "      <td>...</td>\n",
       "      <td>0</td>\n",
       "      <td>0</td>\n",
       "    </tr>\n",
       "    <tr>\n",
       "      <th>4</th>\n",
       "      <td>1</td>\n",
       "      <td>1</td>\n",
       "      <td>...</td>\n",
       "      <td>0</td>\n",
       "      <td>0</td>\n",
       "    </tr>\n",
       "  </tbody>\n",
       "</table>\n",
       "<p>5 rows × 14 columns</p>\n",
       "</div>"
      ],
      "text/plain": [
       "   MONTH  DAY  ...  DIVERTED CANCELLED\n",
       "0      1    1  ...         0         0\n",
       "1      1    1  ...         0         0\n",
       "2      1    1  ...         0         0\n",
       "3      1    1  ...         0         0\n",
       "4      1    1  ...         0         0\n",
       "\n",
       "[5 rows x 14 columns]"
      ]
     },
     "execution_count": 2,
     "metadata": {},
     "output_type": "execute_result"
    }
   ],
   "source": [
    "flights = pd.read_csv('data/flights.csv')\n",
    "flights.head()"
   ]
  },
  {
   "cell_type": "code",
   "execution_count": 3,
   "metadata": {
    "colab": {},
    "colab_type": "code",
    "id": "7QT0uNM5jldk",
    "lines_to_next_cell": 2,
    "outputId": "46fd1e52-ec2a-4183-a739-98b72471c512"
   },
   "outputs": [
    {
     "data": {
      "text/html": [
       "<div>\n",
       "<style scoped>\n",
       "    .dataframe tbody tr th:only-of-type {\n",
       "        vertical-align: middle;\n",
       "    }\n",
       "\n",
       "    .dataframe tbody tr th {\n",
       "        vertical-align: top;\n",
       "    }\n",
       "\n",
       "    .dataframe thead th {\n",
       "        text-align: right;\n",
       "    }\n",
       "</style>\n",
       "<table border=\"1\" class=\"dataframe\">\n",
       "  <thead>\n",
       "    <tr style=\"text-align: right;\">\n",
       "      <th></th>\n",
       "      <th>ARR_DELAY</th>\n",
       "    </tr>\n",
       "    <tr>\n",
       "      <th>AIRLINE</th>\n",
       "      <th></th>\n",
       "    </tr>\n",
       "  </thead>\n",
       "  <tbody>\n",
       "    <tr>\n",
       "      <th>AA</th>\n",
       "      <td>5.542661</td>\n",
       "    </tr>\n",
       "    <tr>\n",
       "      <th>AS</th>\n",
       "      <td>-0.833333</td>\n",
       "    </tr>\n",
       "    <tr>\n",
       "      <th>B6</th>\n",
       "      <td>8.692593</td>\n",
       "    </tr>\n",
       "    <tr>\n",
       "      <th>DL</th>\n",
       "      <td>0.339691</td>\n",
       "    </tr>\n",
       "    <tr>\n",
       "      <th>EV</th>\n",
       "      <td>7.034580</td>\n",
       "    </tr>\n",
       "    <tr>\n",
       "      <th>...</th>\n",
       "      <td>...</td>\n",
       "    </tr>\n",
       "    <tr>\n",
       "      <th>OO</th>\n",
       "      <td>7.593463</td>\n",
       "    </tr>\n",
       "    <tr>\n",
       "      <th>UA</th>\n",
       "      <td>7.765755</td>\n",
       "    </tr>\n",
       "    <tr>\n",
       "      <th>US</th>\n",
       "      <td>1.681105</td>\n",
       "    </tr>\n",
       "    <tr>\n",
       "      <th>VX</th>\n",
       "      <td>5.348884</td>\n",
       "    </tr>\n",
       "    <tr>\n",
       "      <th>WN</th>\n",
       "      <td>6.397353</td>\n",
       "    </tr>\n",
       "  </tbody>\n",
       "</table>\n",
       "<p>14 rows × 1 columns</p>\n",
       "</div>"
      ],
      "text/plain": [
       "         ARR_DELAY\n",
       "AIRLINE           \n",
       "AA        5.542661\n",
       "AS       -0.833333\n",
       "B6        8.692593\n",
       "DL        0.339691\n",
       "EV        7.034580\n",
       "...            ...\n",
       "OO        7.593463\n",
       "UA        7.765755\n",
       "US        1.681105\n",
       "VX        5.348884\n",
       "WN        6.397353\n",
       "\n",
       "[14 rows x 1 columns]"
      ]
     },
     "execution_count": 3,
     "metadata": {},
     "output_type": "execute_result"
    }
   ],
   "source": [
    "(flights\n",
    "     .groupby('AIRLINE')\n",
    "     .agg({'ARR_DELAY':'mean'})\n",
    ")"
   ]
  },
  {
   "cell_type": "code",
   "execution_count": 4,
   "metadata": {
    "colab": {},
    "colab_type": "code",
    "id": "1eBjId2yjldn",
    "lines_to_next_cell": 2,
    "outputId": "febaa1f0-c829-4d31-b052-75237f4be991"
   },
   "outputs": [
    {
     "data": {
      "text/plain": [
       "AIRLINE\n",
       "AA    5.542661\n",
       "AS   -0.833333\n",
       "B6    8.692593\n",
       "DL    0.339691\n",
       "EV    7.034580\n",
       "        ...   \n",
       "OO    7.593463\n",
       "UA    7.765755\n",
       "US    1.681105\n",
       "VX    5.348884\n",
       "WN    6.397353\n",
       "Name: ARR_DELAY, Length: 14, dtype: float64"
      ]
     },
     "execution_count": 4,
     "metadata": {},
     "output_type": "execute_result"
    }
   ],
   "source": [
    "(flights\n",
    "     .groupby('AIRLINE')\n",
    "     ['ARR_DELAY']\n",
    "     .agg('mean')\n",
    ")"
   ]
  },
  {
   "cell_type": "code",
   "execution_count": 5,
   "metadata": {
    "colab": {},
    "colab_type": "code",
    "id": "Y2A73B6Njldq",
    "lines_to_next_cell": 2,
    "outputId": "5e6c556e-2554-4809-a056-1f75389a573b"
   },
   "outputs": [
    {
     "data": {
      "text/plain": [
       "AIRLINE\n",
       "AA    5.542661\n",
       "AS   -0.833333\n",
       "B6    8.692593\n",
       "DL    0.339691\n",
       "EV    7.034580\n",
       "        ...   \n",
       "OO    7.593463\n",
       "UA    7.765755\n",
       "US    1.681105\n",
       "VX    5.348884\n",
       "WN    6.397353\n",
       "Name: ARR_DELAY, Length: 14, dtype: float64"
      ]
     },
     "execution_count": 5,
     "metadata": {},
     "output_type": "execute_result"
    }
   ],
   "source": [
    "(flights\n",
    "    .groupby('AIRLINE')\n",
    "    ['ARR_DELAY']\n",
    "    .agg(np.mean)\n",
    ")"
   ]
  },
  {
   "cell_type": "code",
   "execution_count": 6,
   "metadata": {
    "colab": {},
    "colab_type": "code",
    "id": "mAn4CuFGjldu",
    "lines_to_next_cell": 2,
    "outputId": "39228af4-dfd4-4c27-f1ae-e1592a2cd2f8"
   },
   "outputs": [
    {
     "data": {
      "text/plain": [
       "AIRLINE\n",
       "AA    5.542661\n",
       "AS   -0.833333\n",
       "B6    8.692593\n",
       "DL    0.339691\n",
       "EV    7.034580\n",
       "        ...   \n",
       "OO    7.593463\n",
       "UA    7.765755\n",
       "US    1.681105\n",
       "VX    5.348884\n",
       "WN    6.397353\n",
       "Name: ARR_DELAY, Length: 14, dtype: float64"
      ]
     },
     "execution_count": 6,
     "metadata": {},
     "output_type": "execute_result"
    }
   ],
   "source": [
    "(flights\n",
    "    .groupby('AIRLINE')\n",
    "    ['ARR_DELAY']\n",
    "    .mean()\n",
    ")"
   ]
  },
  {
   "cell_type": "markdown",
   "metadata": {
    "colab_type": "text",
    "id": "cA58hJQljldx"
   },
   "source": [
    "### How it works..."
   ]
  },
  {
   "cell_type": "code",
   "execution_count": 7,
   "metadata": {
    "colab": {},
    "colab_type": "code",
    "id": "jmTeqNS0jldy",
    "lines_to_next_cell": 2,
    "outputId": "39d4b689-0fe8-4d88-94d5-21d51ef05733"
   },
   "outputs": [
    {
     "data": {
      "text/plain": [
       "pandas.core.groupby.generic.DataFrameGroupBy"
      ]
     },
     "execution_count": 7,
     "metadata": {},
     "output_type": "execute_result"
    }
   ],
   "source": [
    "grouped = flights.groupby('AIRLINE')\n",
    "type(grouped)"
   ]
  },
  {
   "cell_type": "markdown",
   "metadata": {
    "colab_type": "text",
    "id": "rxoVDsoHjld0"
   },
   "source": [
    "### There's more..."
   ]
  },
  {
   "cell_type": "code",
   "execution_count": 8,
   "metadata": {
    "colab": {},
    "colab_type": "code",
    "id": "fDApyl25jld1",
    "lines_to_next_cell": 2,
    "outputId": "a517bbc7-6728-44c5-f622-b6cab585da42"
   },
   "outputs": [
    {
     "name": "stderr",
     "output_type": "stream",
     "text": [
      "C:\\Users\\HYUNJUN\\anaconda3\\envs\\deep-learning-gpu\\lib\\site-packages\\pandas\\core\\arraylike.py:364: RuntimeWarning: invalid value encountered in sqrt\n",
      "  result = getattr(ufunc, method)(*inputs, **kwargs)\n"
     ]
    },
    {
     "ename": "ValueError",
     "evalue": "Must produce aggregated value",
     "output_type": "error",
     "traceback": [
      "\u001b[1;31m---------------------------------------------------------------------------\u001b[0m",
      "\u001b[1;31mValueError\u001b[0m                                Traceback (most recent call last)",
      "\u001b[1;32m~\\AppData\\Local\\Temp/ipykernel_14024/2891676138.py\u001b[0m in \u001b[0;36m<module>\u001b[1;34m\u001b[0m\n\u001b[0;32m      2\u001b[0m    \u001b[1;33m.\u001b[0m\u001b[0mgroupby\u001b[0m\u001b[1;33m(\u001b[0m\u001b[1;34m'AIRLINE'\u001b[0m\u001b[1;33m)\u001b[0m\u001b[1;33m\u001b[0m\u001b[1;33m\u001b[0m\u001b[0m\n\u001b[0;32m      3\u001b[0m    \u001b[1;33m[\u001b[0m\u001b[1;34m'ARR_DELAY'\u001b[0m\u001b[1;33m]\u001b[0m\u001b[1;33m\u001b[0m\u001b[1;33m\u001b[0m\u001b[0m\n\u001b[1;32m----> 4\u001b[1;33m    \u001b[1;33m.\u001b[0m\u001b[0magg\u001b[0m\u001b[1;33m(\u001b[0m\u001b[0mnp\u001b[0m\u001b[1;33m.\u001b[0m\u001b[0msqrt\u001b[0m\u001b[1;33m)\u001b[0m\u001b[1;33m\u001b[0m\u001b[1;33m\u001b[0m\u001b[0m\n\u001b[0m\u001b[0;32m      5\u001b[0m )\n",
      "\u001b[1;32m~\\anaconda3\\envs\\deep-learning-gpu\\lib\\site-packages\\pandas\\core\\groupby\\generic.py\u001b[0m in \u001b[0;36maggregate\u001b[1;34m(self, func, engine, engine_kwargs, *args, **kwargs)\u001b[0m\n\u001b[0;32m    263\u001b[0m \u001b[1;33m\u001b[0m\u001b[0m\n\u001b[0;32m    264\u001b[0m             \u001b[1;32mtry\u001b[0m\u001b[1;33m:\u001b[0m\u001b[1;33m\u001b[0m\u001b[1;33m\u001b[0m\u001b[0m\n\u001b[1;32m--> 265\u001b[1;33m                 \u001b[1;32mreturn\u001b[0m \u001b[0mself\u001b[0m\u001b[1;33m.\u001b[0m\u001b[0m_python_agg_general\u001b[0m\u001b[1;33m(\u001b[0m\u001b[0mfunc\u001b[0m\u001b[1;33m,\u001b[0m \u001b[1;33m*\u001b[0m\u001b[0margs\u001b[0m\u001b[1;33m,\u001b[0m \u001b[1;33m**\u001b[0m\u001b[0mkwargs\u001b[0m\u001b[1;33m)\u001b[0m\u001b[1;33m\u001b[0m\u001b[1;33m\u001b[0m\u001b[0m\n\u001b[0m\u001b[0;32m    266\u001b[0m             \u001b[1;32mexcept\u001b[0m \u001b[0mKeyError\u001b[0m\u001b[1;33m:\u001b[0m\u001b[1;33m\u001b[0m\u001b[1;33m\u001b[0m\u001b[0m\n\u001b[0;32m    267\u001b[0m                 \u001b[1;31m# TODO: KeyError is raised in _python_agg_general,\u001b[0m\u001b[1;33m\u001b[0m\u001b[1;33m\u001b[0m\u001b[1;33m\u001b[0m\u001b[0m\n",
      "\u001b[1;32m~\\anaconda3\\envs\\deep-learning-gpu\\lib\\site-packages\\pandas\\core\\groupby\\groupby.py\u001b[0m in \u001b[0;36m_python_agg_general\u001b[1;34m(self, func, *args, **kwargs)\u001b[0m\n\u001b[0;32m   1330\u001b[0m             \u001b[1;32mtry\u001b[0m\u001b[1;33m:\u001b[0m\u001b[1;33m\u001b[0m\u001b[1;33m\u001b[0m\u001b[0m\n\u001b[0;32m   1331\u001b[0m                 \u001b[1;31m# if this function is invalid for this dtype, we will ignore it.\u001b[0m\u001b[1;33m\u001b[0m\u001b[1;33m\u001b[0m\u001b[1;33m\u001b[0m\u001b[0m\n\u001b[1;32m-> 1332\u001b[1;33m                 \u001b[0mresult\u001b[0m \u001b[1;33m=\u001b[0m \u001b[0mself\u001b[0m\u001b[1;33m.\u001b[0m\u001b[0mgrouper\u001b[0m\u001b[1;33m.\u001b[0m\u001b[0magg_series\u001b[0m\u001b[1;33m(\u001b[0m\u001b[0mobj\u001b[0m\u001b[1;33m,\u001b[0m \u001b[0mf\u001b[0m\u001b[1;33m)\u001b[0m\u001b[1;33m\u001b[0m\u001b[1;33m\u001b[0m\u001b[0m\n\u001b[0m\u001b[0;32m   1333\u001b[0m             \u001b[1;32mexcept\u001b[0m \u001b[0mTypeError\u001b[0m\u001b[1;33m:\u001b[0m\u001b[1;33m\u001b[0m\u001b[1;33m\u001b[0m\u001b[0m\n\u001b[0;32m   1334\u001b[0m                 warnings.warn(\n",
      "\u001b[1;32m~\\anaconda3\\envs\\deep-learning-gpu\\lib\\site-packages\\pandas\\core\\groupby\\ops.py\u001b[0m in \u001b[0;36magg_series\u001b[1;34m(self, obj, func, preserve_dtype)\u001b[0m\n\u001b[0;32m   1047\u001b[0m \u001b[1;33m\u001b[0m\u001b[0m\n\u001b[0;32m   1048\u001b[0m         \u001b[1;32melse\u001b[0m\u001b[1;33m:\u001b[0m\u001b[1;33m\u001b[0m\u001b[1;33m\u001b[0m\u001b[0m\n\u001b[1;32m-> 1049\u001b[1;33m             \u001b[0mresult\u001b[0m \u001b[1;33m=\u001b[0m \u001b[0mself\u001b[0m\u001b[1;33m.\u001b[0m\u001b[0m_aggregate_series_fast\u001b[0m\u001b[1;33m(\u001b[0m\u001b[0mobj\u001b[0m\u001b[1;33m,\u001b[0m \u001b[0mfunc\u001b[0m\u001b[1;33m)\u001b[0m\u001b[1;33m\u001b[0m\u001b[1;33m\u001b[0m\u001b[0m\n\u001b[0m\u001b[0;32m   1050\u001b[0m \u001b[1;33m\u001b[0m\u001b[0m\n\u001b[0;32m   1051\u001b[0m         \u001b[0mnpvalues\u001b[0m \u001b[1;33m=\u001b[0m \u001b[0mlib\u001b[0m\u001b[1;33m.\u001b[0m\u001b[0mmaybe_convert_objects\u001b[0m\u001b[1;33m(\u001b[0m\u001b[0mresult\u001b[0m\u001b[1;33m,\u001b[0m \u001b[0mtry_float\u001b[0m\u001b[1;33m=\u001b[0m\u001b[1;32mFalse\u001b[0m\u001b[1;33m)\u001b[0m\u001b[1;33m\u001b[0m\u001b[1;33m\u001b[0m\u001b[0m\n",
      "\u001b[1;32m~\\anaconda3\\envs\\deep-learning-gpu\\lib\\site-packages\\pandas\\core\\groupby\\ops.py\u001b[0m in \u001b[0;36m_aggregate_series_fast\u001b[1;34m(self, obj, func)\u001b[0m\n\u001b[0;32m   1072\u001b[0m         \u001b[0mids\u001b[0m \u001b[1;33m=\u001b[0m \u001b[0mids\u001b[0m\u001b[1;33m.\u001b[0m\u001b[0mtake\u001b[0m\u001b[1;33m(\u001b[0m\u001b[0mindexer\u001b[0m\u001b[1;33m)\u001b[0m\u001b[1;33m\u001b[0m\u001b[1;33m\u001b[0m\u001b[0m\n\u001b[0;32m   1073\u001b[0m         \u001b[0msgrouper\u001b[0m \u001b[1;33m=\u001b[0m \u001b[0mlibreduction\u001b[0m\u001b[1;33m.\u001b[0m\u001b[0mSeriesGrouper\u001b[0m\u001b[1;33m(\u001b[0m\u001b[0mobj\u001b[0m\u001b[1;33m,\u001b[0m \u001b[0mfunc\u001b[0m\u001b[1;33m,\u001b[0m \u001b[0mids\u001b[0m\u001b[1;33m,\u001b[0m \u001b[0mngroups\u001b[0m\u001b[1;33m)\u001b[0m\u001b[1;33m\u001b[0m\u001b[1;33m\u001b[0m\u001b[0m\n\u001b[1;32m-> 1074\u001b[1;33m         \u001b[0mresult\u001b[0m\u001b[1;33m,\u001b[0m \u001b[0m_\u001b[0m \u001b[1;33m=\u001b[0m \u001b[0msgrouper\u001b[0m\u001b[1;33m.\u001b[0m\u001b[0mget_result\u001b[0m\u001b[1;33m(\u001b[0m\u001b[1;33m)\u001b[0m\u001b[1;33m\u001b[0m\u001b[1;33m\u001b[0m\u001b[0m\n\u001b[0m\u001b[0;32m   1075\u001b[0m         \u001b[1;32mreturn\u001b[0m \u001b[0mresult\u001b[0m\u001b[1;33m\u001b[0m\u001b[1;33m\u001b[0m\u001b[0m\n\u001b[0;32m   1076\u001b[0m \u001b[1;33m\u001b[0m\u001b[0m\n",
      "\u001b[1;32m~\\anaconda3\\envs\\deep-learning-gpu\\lib\\site-packages\\pandas\\_libs\\reduction.pyx\u001b[0m in \u001b[0;36mpandas._libs.reduction.SeriesGrouper.get_result\u001b[1;34m()\u001b[0m\n",
      "\u001b[1;32m~\\anaconda3\\envs\\deep-learning-gpu\\lib\\site-packages\\pandas\\_libs\\reduction.pyx\u001b[0m in \u001b[0;36mpandas._libs.reduction._BaseGrouper._apply_to_group\u001b[1;34m()\u001b[0m\n",
      "\u001b[1;32m~\\anaconda3\\envs\\deep-learning-gpu\\lib\\site-packages\\pandas\\_libs\\reduction.pyx\u001b[0m in \u001b[0;36mpandas._libs.reduction.check_result_array\u001b[1;34m()\u001b[0m\n",
      "\u001b[1;31mValueError\u001b[0m: Must produce aggregated value"
     ]
    }
   ],
   "source": [
    "(flights\n",
    "   .groupby('AIRLINE')\n",
    "   ['ARR_DELAY']\n",
    "   .agg(np.sqrt)\n",
    ")"
   ]
  },
  {
   "cell_type": "markdown",
   "metadata": {
    "colab_type": "text",
    "id": "FODM4Mpmjld4"
   },
   "source": [
    "## Grouping and aggregating with multiple columns and functions"
   ]
  },
  {
   "cell_type": "markdown",
   "metadata": {
    "colab_type": "text",
    "id": "59fSE80tjld5"
   },
   "source": [
    "### How to do it..."
   ]
  },
  {
   "cell_type": "code",
   "execution_count": null,
   "metadata": {
    "colab": {},
    "colab_type": "code",
    "id": "G-5xmN5_jld6",
    "lines_to_next_cell": 2,
    "outputId": "830ab819-61ca-43e1-c7c7-74113f44af57"
   },
   "outputs": [],
   "source": [
    "(flights\n",
    "    .groupby(['AIRLINE', 'WEEKDAY'])\n",
    "    ['CANCELLED'] \n",
    "    .agg('sum')\n",
    ")"
   ]
  },
  {
   "cell_type": "code",
   "execution_count": null,
   "metadata": {
    "colab": {},
    "colab_type": "code",
    "id": "gNfdHAjGjld9",
    "lines_to_next_cell": 2,
    "outputId": "2dbf7aaa-452f-4429-dcad-b70baf85e26a"
   },
   "outputs": [],
   "source": [
    "(flights\n",
    "    .groupby(['AIRLINE', 'WEEKDAY']) \n",
    "    ['CANCELLED', 'DIVERTED']\n",
    "    .agg(['sum', 'mean'])\n",
    ")"
   ]
  },
  {
   "cell_type": "code",
   "execution_count": null,
   "metadata": {
    "colab": {},
    "colab_type": "code",
    "id": "NKYfBU_pjleC",
    "lines_to_next_cell": 2,
    "outputId": "e0a8bc35-8f56-4a83-975f-8649a3d3adb3"
   },
   "outputs": [],
   "source": [
    "(flights\n",
    "    .groupby(['ORG_AIR', 'DEST_AIR'])\n",
    "    .agg({'CANCELLED':['sum', 'mean', 'size'],\n",
    "          'AIR_TIME':['mean', 'var']})\n",
    ")"
   ]
  },
  {
   "cell_type": "code",
   "execution_count": null,
   "metadata": {
    "colab": {},
    "colab_type": "code",
    "id": "R7iRKFDbjleF",
    "lines_to_next_cell": 2,
    "outputId": "26848b95-055b-4550-9f6e-7d8aeec0891c"
   },
   "outputs": [],
   "source": [
    "(flights\n",
    "    .groupby(['ORG_AIR', 'DEST_AIR'])\n",
    "    .agg(sum_cancelled=pd.NamedAgg(column='CANCELLED', aggfunc='sum'),\n",
    "         mean_cancelled=pd.NamedAgg(column='CANCELLED', aggfunc='mean'),\n",
    "         size_cancelled=pd.NamedAgg(column='CANCELLED', aggfunc='size'),\n",
    "         mean_air_time=pd.NamedAgg(column='AIR_TIME', aggfunc='mean'),\n",
    "         var_air_time=pd.NamedAgg(column='AIR_TIME', aggfunc='var'))\n",
    ")"
   ]
  },
  {
   "cell_type": "markdown",
   "metadata": {
    "colab_type": "text",
    "id": "kUXqtg6FjleH"
   },
   "source": [
    "### How it works..."
   ]
  },
  {
   "cell_type": "markdown",
   "metadata": {
    "colab_type": "text",
    "id": "WpJrtPYUjleJ"
   },
   "source": [
    "### There's more..."
   ]
  },
  {
   "cell_type": "code",
   "execution_count": null,
   "metadata": {
    "colab": {},
    "colab_type": "code",
    "id": "r3yHG3ImjleJ",
    "lines_to_next_cell": 2
   },
   "outputs": [],
   "source": [
    "res = (flights\n",
    "    .groupby(['ORG_AIR', 'DEST_AIR'])\n",
    "    .agg({'CANCELLED':['sum', 'mean', 'size'],\n",
    "          'AIR_TIME':['mean', 'var']})\n",
    ")\n",
    "res.columns = ['_'.join(x) for x in\n",
    "    res.columns.to_flat_index()]"
   ]
  },
  {
   "cell_type": "code",
   "execution_count": null,
   "metadata": {
    "colab": {},
    "colab_type": "code",
    "id": "6Qeh4_9bjleM",
    "outputId": "3889b4eb-e0e7-48b3-d50b-64555091c63f"
   },
   "outputs": [],
   "source": [
    "res"
   ]
  },
  {
   "cell_type": "code",
   "execution_count": null,
   "metadata": {
    "colab": {},
    "colab_type": "code",
    "id": "lf7a4FGajleP"
   },
   "outputs": [],
   "source": [
    "def flatten_cols(df):\n",
    "    df.columns = ['_'.join(x) for x in\n",
    "        df.columns.to_flat_index()]\n",
    "    return df"
   ]
  },
  {
   "cell_type": "code",
   "execution_count": null,
   "metadata": {
    "colab": {},
    "colab_type": "code",
    "id": "DrwAPxkojleR",
    "lines_to_next_cell": 2
   },
   "outputs": [],
   "source": [
    "res = (flights\n",
    "    .groupby(['ORG_AIR', 'DEST_AIR'])\n",
    "    .agg({'CANCELLED':['sum', 'mean', 'size'],\n",
    "          'AIR_TIME':['mean', 'var']})\n",
    "    .pipe(flatten_cols)\n",
    ")"
   ]
  },
  {
   "cell_type": "code",
   "execution_count": null,
   "metadata": {
    "colab": {},
    "colab_type": "code",
    "id": "k36rhH8sjleT",
    "lines_to_next_cell": 2,
    "outputId": "e1dc87f1-1cd2-4207-d3fe-c1981cd6c6f3"
   },
   "outputs": [],
   "source": [
    "res"
   ]
  },
  {
   "cell_type": "code",
   "execution_count": null,
   "metadata": {
    "colab": {},
    "colab_type": "code",
    "id": "ojpexCs8jleW",
    "lines_to_next_cell": 2,
    "outputId": "30f4a33e-81e7-4827-bece-439f6ca4ca51"
   },
   "outputs": [],
   "source": [
    "res = (flights\n",
    "    .assign(ORG_AIR=flights.ORG_AIR.astype('category'))\n",
    "    .groupby(['ORG_AIR', 'DEST_AIR'])\n",
    "    .agg({'CANCELLED':['sum', 'mean', 'size'],\n",
    "          'AIR_TIME':['mean', 'var']})\n",
    ")\n",
    "res"
   ]
  },
  {
   "cell_type": "code",
   "execution_count": null,
   "metadata": {
    "colab": {},
    "colab_type": "code",
    "id": "eV10PXDEjleY",
    "lines_to_next_cell": 2,
    "outputId": "b43afae0-8c66-44c9-800f-85e988dfb0ba"
   },
   "outputs": [],
   "source": [
    "res = (flights\n",
    "    .assign(ORG_AIR=flights.ORG_AIR.astype('category'))\n",
    "    .groupby(['ORG_AIR', 'DEST_AIR'], observed=True)\n",
    "    .agg({'CANCELLED':['sum', 'mean', 'size'],\n",
    "          'AIR_TIME':['mean', 'var']})\n",
    ")\n",
    "res"
   ]
  },
  {
   "cell_type": "markdown",
   "metadata": {
    "colab_type": "text",
    "id": "-9MCDEQ3jlec"
   },
   "source": [
    "## Removing the MultiIndex after grouping"
   ]
  },
  {
   "cell_type": "code",
   "execution_count": null,
   "metadata": {
    "colab": {},
    "colab_type": "code",
    "id": "ta6MIoSTjlec",
    "lines_to_next_cell": 2,
    "outputId": "f5038198-309b-4b0a-873f-0065bcbd9508"
   },
   "outputs": [],
   "source": [
    "flights = pd.read_csv('data/flights.csv')\n",
    "airline_info = (flights\n",
    "    .groupby(['AIRLINE', 'WEEKDAY'])\n",
    "    .agg({'DIST':['sum', 'mean'],\n",
    "          'ARR_DELAY':['min', 'max']}) \n",
    "    .astype(int)\n",
    ")\n",
    "airline_info"
   ]
  },
  {
   "cell_type": "code",
   "execution_count": null,
   "metadata": {
    "colab": {},
    "colab_type": "code",
    "id": "JPmADUyDjlee",
    "lines_to_next_cell": 2,
    "outputId": "55fd4c51-5e82-4816-9dee-92521f5904b9"
   },
   "outputs": [],
   "source": [
    "airline_info.columns.get_level_values(0)"
   ]
  },
  {
   "cell_type": "code",
   "execution_count": null,
   "metadata": {
    "colab": {},
    "colab_type": "code",
    "id": "purCluLPjleh",
    "lines_to_next_cell": 2,
    "outputId": "a918c261-0973-452d-c822-72689283dc3f"
   },
   "outputs": [],
   "source": [
    "airline_info.columns.get_level_values(1)"
   ]
  },
  {
   "cell_type": "code",
   "execution_count": null,
   "metadata": {
    "colab": {},
    "colab_type": "code",
    "id": "Q3XnwCVIjlej",
    "lines_to_next_cell": 2,
    "outputId": "8f9395ae-4ae3-4f32-8b58-fa19ebd86e86"
   },
   "outputs": [],
   "source": [
    "airline_info.columns.to_flat_index()"
   ]
  },
  {
   "cell_type": "code",
   "execution_count": null,
   "metadata": {
    "colab": {},
    "colab_type": "code",
    "id": "kxCp6DzIjlem",
    "lines_to_next_cell": 2
   },
   "outputs": [],
   "source": [
    "airline_info.columns = ['_'.join(x) for x in\n",
    "    airline_info.columns.to_flat_index()]"
   ]
  },
  {
   "cell_type": "code",
   "execution_count": null,
   "metadata": {
    "colab": {},
    "colab_type": "code",
    "id": "ANNZE9kHjleo",
    "lines_to_next_cell": 2,
    "outputId": "98cb6da0-9581-4edd-82fa-bfbfc5408bdb"
   },
   "outputs": [],
   "source": [
    "airline_info"
   ]
  },
  {
   "cell_type": "code",
   "execution_count": null,
   "metadata": {
    "colab": {},
    "colab_type": "code",
    "id": "bSTN_Cjgjler",
    "lines_to_next_cell": 2,
    "outputId": "b61853bc-c68f-4cbd-8d0c-f7781b07e9e0"
   },
   "outputs": [],
   "source": [
    "airline_info.reset_index()"
   ]
  },
  {
   "cell_type": "code",
   "execution_count": null,
   "metadata": {
    "colab": {},
    "colab_type": "code",
    "id": "f0Rvlheqjleu",
    "lines_to_next_cell": 2,
    "outputId": "8c559ba7-e391-447d-f04d-ce91f5fa0c9a"
   },
   "outputs": [],
   "source": [
    "(flights\n",
    "    .groupby(['AIRLINE', 'WEEKDAY'])\n",
    "    .agg(dist_sum=pd.NamedAgg(column='DIST', aggfunc='sum'),\n",
    "         dist_mean=pd.NamedAgg(column='DIST', aggfunc='mean'),\n",
    "         arr_delay_min=pd.NamedAgg(column='ARR_DELAY', aggfunc='min'),\n",
    "         arr_delay_max=pd.NamedAgg(column='ARR_DELAY', aggfunc='max'))\n",
    "    .astype(int)\n",
    "    .reset_index()\n",
    ")"
   ]
  },
  {
   "cell_type": "markdown",
   "metadata": {
    "colab_type": "text",
    "id": "Kn4yXGgcjlex"
   },
   "source": [
    "### How it works..."
   ]
  },
  {
   "cell_type": "markdown",
   "metadata": {
    "colab_type": "text",
    "id": "hc0NLQqNjley"
   },
   "source": [
    "### There's more..."
   ]
  },
  {
   "cell_type": "code",
   "execution_count": null,
   "metadata": {
    "colab": {},
    "colab_type": "code",
    "id": "0m6F41Bdjley",
    "lines_to_next_cell": 2,
    "outputId": "92ffeb2a-033d-4774-c4b5-aea50a0146be"
   },
   "outputs": [],
   "source": [
    "(flights\n",
    "    .groupby(['AIRLINE'], as_index=False)\n",
    "    ['DIST']\n",
    "    .agg('mean')\n",
    "    .round(0)\n",
    ")"
   ]
  },
  {
   "cell_type": "markdown",
   "metadata": {
    "colab_type": "text",
    "id": "PoiehicHjle4"
   },
   "source": [
    "## Grouping with a custom aggregation function"
   ]
  },
  {
   "cell_type": "markdown",
   "metadata": {
    "colab_type": "text",
    "id": "v-tdZqBgjle5"
   },
   "source": [
    "### How to do it..."
   ]
  },
  {
   "cell_type": "code",
   "execution_count": null,
   "metadata": {
    "colab": {},
    "colab_type": "code",
    "id": "_AZ1YPKQjle6",
    "outputId": "8578ada3-6c5e-4517-a48d-9605fdbfae36"
   },
   "outputs": [],
   "source": [
    "college = pd.read_csv('data/college.csv')\n",
    "(college\n",
    "    .groupby('STABBR')\n",
    "    ['UGDS']\n",
    "    .agg(['mean', 'std'])\n",
    "    .round(0)\n",
    ")"
   ]
  },
  {
   "cell_type": "code",
   "execution_count": null,
   "metadata": {
    "colab": {},
    "colab_type": "code",
    "id": "5SwTvgkEjle8"
   },
   "outputs": [],
   "source": [
    "def max_deviation(s):\n",
    "    std_score = (s - s.mean()) / s.std()\n",
    "    return std_score.abs().max()"
   ]
  },
  {
   "cell_type": "code",
   "execution_count": null,
   "metadata": {
    "colab": {},
    "colab_type": "code",
    "id": "EFpf_Lu2jle-",
    "lines_to_next_cell": 2,
    "outputId": "e3be42f0-75ef-41ec-f067-9d1f0291b575"
   },
   "outputs": [],
   "source": [
    "(college\n",
    "    .groupby('STABBR')\n",
    "    ['UGDS']\n",
    "    .agg(max_deviation)\n",
    "    .round(1)\n",
    ")"
   ]
  },
  {
   "cell_type": "markdown",
   "metadata": {
    "colab_type": "text",
    "id": "Z1kpZWqIjlfA"
   },
   "source": [
    "### How it works..."
   ]
  },
  {
   "cell_type": "markdown",
   "metadata": {
    "colab_type": "text",
    "id": "zNomWi5njlfA"
   },
   "source": [
    "### There's more..."
   ]
  },
  {
   "cell_type": "code",
   "execution_count": null,
   "metadata": {
    "colab": {},
    "colab_type": "code",
    "id": "ADxaBYXsjlfB",
    "lines_to_next_cell": 2,
    "outputId": "658041e7-a8e1-41f8-c0b7-79d7c4e02609"
   },
   "outputs": [],
   "source": [
    "(college\n",
    "    .groupby('STABBR')\n",
    "    ['UGDS', 'SATVRMID', 'SATMTMID']\n",
    "    .agg(max_deviation)\n",
    "    .round(1)\n",
    ")"
   ]
  },
  {
   "cell_type": "code",
   "execution_count": null,
   "metadata": {
    "colab": {},
    "colab_type": "code",
    "id": "nvxIg56tjlfE",
    "lines_to_next_cell": 2,
    "outputId": "384c492a-5ab2-47bd-dc4d-bf22d50f6ba1"
   },
   "outputs": [],
   "source": [
    "(college\n",
    "    .groupby(['STABBR', 'RELAFFIL']) \n",
    "    ['UGDS', 'SATVRMID', 'SATMTMID'] \n",
    "    .agg([max_deviation, 'mean', 'std'])\n",
    "    .round(1)\n",
    ")"
   ]
  },
  {
   "cell_type": "code",
   "execution_count": null,
   "metadata": {
    "colab": {},
    "colab_type": "code",
    "id": "ZqWR6aAdjlfG",
    "lines_to_next_cell": 2,
    "outputId": "9db395bd-f63e-42ae-b72d-9c2ffd93d414"
   },
   "outputs": [],
   "source": [
    "max_deviation.__name__"
   ]
  },
  {
   "cell_type": "code",
   "execution_count": null,
   "metadata": {
    "colab": {},
    "colab_type": "code",
    "id": "6kPVSp1cjlfI",
    "outputId": "68c8745f-f713-4367-d7a2-e2649a2b92c2"
   },
   "outputs": [],
   "source": [
    "max_deviation.__name__ = 'Max Deviation'\n",
    "(college\n",
    "    .groupby(['STABBR', 'RELAFFIL']) \n",
    "    ['UGDS', 'SATVRMID', 'SATMTMID'] \n",
    "    .agg([max_deviation, 'mean', 'std'])\n",
    "    .round(1)\n",
    ")"
   ]
  },
  {
   "cell_type": "markdown",
   "metadata": {
    "colab_type": "text",
    "id": "4HAaZye3jlfK"
   },
   "source": [
    "## Customizing aggregating functions with *args and **kwargs"
   ]
  },
  {
   "cell_type": "markdown",
   "metadata": {
    "colab_type": "text",
    "id": "scn0mxSTjlfL"
   },
   "source": [
    "### How to do it..."
   ]
  },
  {
   "cell_type": "code",
   "execution_count": null,
   "metadata": {
    "colab": {},
    "colab_type": "code",
    "id": "fNI5yEUQjlfM"
   },
   "outputs": [],
   "source": [
    "def pct_between_1_3k(s):\n",
    "    return (s\n",
    "        .between(1_000, 3_000)\n",
    "        .mean()\n",
    "        * 100\n",
    "    )"
   ]
  },
  {
   "cell_type": "code",
   "execution_count": null,
   "metadata": {
    "colab": {},
    "colab_type": "code",
    "id": "HcBSm7fbjlfQ",
    "outputId": "52a2bfe5-03bb-410a-c59e-3af527177421"
   },
   "outputs": [],
   "source": [
    "(college\n",
    "    .groupby(['STABBR', 'RELAFFIL'])\n",
    "    ['UGDS'] \n",
    "    .agg(pct_between_1_3k)\n",
    "    .round(1)\n",
    ")"
   ]
  },
  {
   "cell_type": "code",
   "execution_count": null,
   "metadata": {
    "colab": {},
    "colab_type": "code",
    "id": "EUnmdpwWjlfS"
   },
   "outputs": [],
   "source": [
    "def pct_between(s, low, high):\n",
    "    return s.between(low, high).mean() * 100"
   ]
  },
  {
   "cell_type": "code",
   "execution_count": null,
   "metadata": {
    "colab": {},
    "colab_type": "code",
    "id": "s2U6nvyxjlfU",
    "outputId": "49d34b59-7945-4dde-99c5-4840013d2937"
   },
   "outputs": [],
   "source": [
    "(college\n",
    "    .groupby(['STABBR', 'RELAFFIL'])\n",
    "    ['UGDS'] \n",
    "    .agg(pct_between, 1_000, 10_000)\n",
    "    .round(1)\n",
    ")"
   ]
  },
  {
   "cell_type": "markdown",
   "metadata": {
    "colab_type": "text",
    "id": "gR-Y_9yNjlfX"
   },
   "source": [
    "### How it works..."
   ]
  },
  {
   "cell_type": "markdown",
   "metadata": {
    "colab_type": "text",
    "id": "JorgS-0rjlfX"
   },
   "source": [
    "### There's more..."
   ]
  },
  {
   "cell_type": "code",
   "execution_count": null,
   "metadata": {
    "colab": {},
    "colab_type": "code",
    "id": "OcU7xKrIjlfY"
   },
   "outputs": [],
   "source": [
    "def between_n_m(n, m):\n",
    "    def wrapper(ser):\n",
    "        return pct_between(ser, n, m)\n",
    "    wrapper.__name__ = f'between_{n}_{m}'\n",
    "    return wrapper"
   ]
  },
  {
   "cell_type": "code",
   "execution_count": null,
   "metadata": {
    "colab": {},
    "colab_type": "code",
    "id": "YmgkGxdmjlfZ",
    "lines_to_next_cell": 2,
    "outputId": "846a1cfe-13db-44f2-d9d4-a4681b4cfda2"
   },
   "outputs": [],
   "source": [
    "(college\n",
    "    .groupby(['STABBR', 'RELAFFIL'])\n",
    "    ['UGDS'] \n",
    "    .agg([between_n_m(1_000, 10_000), 'max', 'mean'])\n",
    "    .round(1)\n",
    ")"
   ]
  },
  {
   "cell_type": "markdown",
   "metadata": {
    "colab_type": "text",
    "id": "yY5DWeb6jlfc"
   },
   "source": [
    "## Examining the groupby object"
   ]
  },
  {
   "cell_type": "markdown",
   "metadata": {
    "colab_type": "text",
    "id": "C-wlhnWSjlfd"
   },
   "source": [
    "### How to do it..."
   ]
  },
  {
   "cell_type": "code",
   "execution_count": null,
   "metadata": {
    "colab": {},
    "colab_type": "code",
    "id": "Z_qE_e3sjlfe",
    "lines_to_next_cell": 2,
    "outputId": "321dc8ea-3dc3-4da5-f2d3-5b21737b9243"
   },
   "outputs": [],
   "source": [
    "college = pd.read_csv('data/college.csv')\n",
    "grouped = college.groupby(['STABBR', 'RELAFFIL'])\n",
    "type(grouped)"
   ]
  },
  {
   "cell_type": "code",
   "execution_count": null,
   "metadata": {
    "colab": {},
    "colab_type": "code",
    "id": "v0h5lAy0jlfg",
    "lines_to_next_cell": 2,
    "outputId": "a2e85e0e-83b2-494c-a29c-bf8c141c7894"
   },
   "outputs": [],
   "source": [
    "print([attr for attr in dir(grouped) if not\n",
    "    attr.startswith('_')])"
   ]
  },
  {
   "cell_type": "code",
   "execution_count": null,
   "metadata": {
    "colab": {},
    "colab_type": "code",
    "id": "6NGfqnDRjlfi",
    "lines_to_next_cell": 2,
    "outputId": "177d5786-fac8-48d2-bb31-82fc5c7d9488"
   },
   "outputs": [],
   "source": [
    "grouped.ngroups"
   ]
  },
  {
   "cell_type": "code",
   "execution_count": null,
   "metadata": {
    "colab": {},
    "colab_type": "code",
    "id": "baWUCLsijlfk",
    "lines_to_next_cell": 2,
    "outputId": "7727ca45-7e19-4256-df97-955d5c6883ae"
   },
   "outputs": [],
   "source": [
    "groups = list(grouped.groups)\n",
    "groups[:6]"
   ]
  },
  {
   "cell_type": "code",
   "execution_count": null,
   "metadata": {
    "colab": {},
    "colab_type": "code",
    "id": "edwkuPDRjlfn",
    "lines_to_next_cell": 2,
    "outputId": "138e4d4e-0d6e-4e6c-f695-8371a6cb2bd3",
    "scrolled": true
   },
   "outputs": [],
   "source": [
    "grouped.get_group(('FL', 1))"
   ]
  },
  {
   "cell_type": "code",
   "execution_count": null,
   "metadata": {
    "colab": {},
    "colab_type": "code",
    "id": "kPbc2mAfjlfp",
    "outputId": "4527f8ca-ae2d-48a6-ca60-8ab5e0198e42",
    "scrolled": false
   },
   "outputs": [],
   "source": [
    "from IPython.display import display\n",
    "for name, group in grouped:\n",
    "    print(name)\n",
    "    display(group.head(3))"
   ]
  },
  {
   "cell_type": "code",
   "execution_count": null,
   "metadata": {
    "colab": {},
    "colab_type": "code",
    "id": "5LaFqyfwjlfr",
    "lines_to_next_cell": 2,
    "outputId": "fcd87ab1-8634-48e8-c197-5d9074827352"
   },
   "outputs": [],
   "source": [
    "for name, group in grouped:\n",
    "    print(name)\n",
    "    print(group)\n",
    "    break"
   ]
  },
  {
   "cell_type": "code",
   "execution_count": null,
   "metadata": {
    "colab": {},
    "colab_type": "code",
    "id": "p19FpCQAjlfv",
    "lines_to_next_cell": 2,
    "outputId": "a47d648f-bffb-4cfa-f007-19912fd8891e"
   },
   "outputs": [],
   "source": [
    "grouped.head(2)"
   ]
  },
  {
   "cell_type": "markdown",
   "metadata": {
    "colab_type": "text",
    "id": "_7wuprDMjlfx"
   },
   "source": [
    "### How it works..."
   ]
  },
  {
   "cell_type": "markdown",
   "metadata": {
    "colab_type": "text",
    "id": "zSeuspYOjlfy"
   },
   "source": [
    "### There's more..."
   ]
  },
  {
   "cell_type": "code",
   "execution_count": null,
   "metadata": {
    "colab": {},
    "colab_type": "code",
    "id": "lqTC7uYUjlfy",
    "lines_to_next_cell": 2,
    "outputId": "9dbfe5f8-fb41-4f8e-e2e8-d1975ceba75a"
   },
   "outputs": [],
   "source": [
    "grouped.nth([1, -1])"
   ]
  },
  {
   "cell_type": "markdown",
   "metadata": {
    "colab_type": "text",
    "id": "pUemVnaujlf0"
   },
   "source": [
    "## Filtering for states with a minority majority"
   ]
  },
  {
   "cell_type": "markdown",
   "metadata": {
    "colab_type": "text",
    "id": "spPMR-V1jlf1"
   },
   "source": [
    "### How to do it..."
   ]
  },
  {
   "cell_type": "code",
   "execution_count": null,
   "metadata": {
    "colab": {},
    "colab_type": "code",
    "id": "SY9bXJ_ijlf1",
    "lines_to_next_cell": 2,
    "outputId": "5a344299-87ec-4828-cbde-8815f7c34b37"
   },
   "outputs": [],
   "source": [
    "college = pd.read_csv('data/college.csv', index_col='INSTNM')\n",
    "grouped = college.groupby('STABBR')\n",
    "grouped.ngroups"
   ]
  },
  {
   "cell_type": "code",
   "execution_count": null,
   "metadata": {
    "colab": {},
    "colab_type": "code",
    "id": "sTlK95_6jlf3",
    "outputId": "2153aacd-5d6d-4a16-c8ac-1c3d3875786b"
   },
   "outputs": [],
   "source": [
    "college['STABBR'].nunique() # verifying the same number"
   ]
  },
  {
   "cell_type": "code",
   "execution_count": null,
   "metadata": {
    "colab": {},
    "colab_type": "code",
    "id": "PMvrYxg1jlf8"
   },
   "outputs": [],
   "source": [
    "def check_minority(df, threshold):\n",
    "    minority_pct = 1 - df['UGDS_WHITE']\n",
    "    total_minority = (df['UGDS'] * minority_pct).sum()\n",
    "    total_ugds = df['UGDS'].sum()\n",
    "    total_minority_pct = total_minority / total_ugds\n",
    "    return total_minority_pct > threshold"
   ]
  },
  {
   "cell_type": "code",
   "execution_count": null,
   "metadata": {
    "colab": {},
    "colab_type": "code",
    "id": "GV6aUofKjlf-",
    "lines_to_next_cell": 2,
    "outputId": "78d4238f-63f5-427d-9a22-fb4739ae158f"
   },
   "outputs": [],
   "source": [
    "college_filtered = grouped.filter(check_minority, threshold=.5)\n",
    "college_filtered"
   ]
  },
  {
   "cell_type": "code",
   "execution_count": null,
   "metadata": {
    "colab": {},
    "colab_type": "code",
    "id": "eKBkHl4pjlgA",
    "lines_to_next_cell": 2,
    "outputId": "b5368b31-ba55-4c0f-8c44-3ef125e7a53b"
   },
   "outputs": [],
   "source": [
    "college.shape"
   ]
  },
  {
   "cell_type": "code",
   "execution_count": null,
   "metadata": {
    "colab": {},
    "colab_type": "code",
    "id": "BTwygUL-jlgC",
    "lines_to_next_cell": 2,
    "outputId": "3a53e808-73b1-4f65-804c-4ae606f06411"
   },
   "outputs": [],
   "source": [
    "college_filtered.shape"
   ]
  },
  {
   "cell_type": "code",
   "execution_count": null,
   "metadata": {
    "colab": {},
    "colab_type": "code",
    "id": "VB68yoVbjlgE",
    "lines_to_next_cell": 2,
    "outputId": "8243f9b9-8914-449d-9380-80458940b062"
   },
   "outputs": [],
   "source": [
    "college_filtered['STABBR'].nunique()"
   ]
  },
  {
   "cell_type": "markdown",
   "metadata": {
    "colab_type": "text",
    "id": "kGGRk2wDjlgF"
   },
   "source": [
    "### How it works..."
   ]
  },
  {
   "cell_type": "markdown",
   "metadata": {
    "colab_type": "text",
    "id": "rTXqUOKXjlgG"
   },
   "source": [
    "### There's more..."
   ]
  },
  {
   "cell_type": "code",
   "execution_count": null,
   "metadata": {
    "colab": {},
    "colab_type": "code",
    "id": "lijssqarjlgG",
    "lines_to_next_cell": 2,
    "outputId": "0f16fad7-0886-40d3-abd9-dd27838256f0"
   },
   "outputs": [],
   "source": [
    "college_filtered_20 = grouped.filter(check_minority, threshold=.2)\n",
    "college_filtered_20.shape"
   ]
  },
  {
   "cell_type": "code",
   "execution_count": null,
   "metadata": {
    "colab": {},
    "colab_type": "code",
    "id": "3Upd1bEkjlgJ",
    "lines_to_next_cell": 2,
    "outputId": "33287817-680b-4ee1-8327-2b7fbece87b8"
   },
   "outputs": [],
   "source": [
    "college_filtered_20['STABBR'].nunique()"
   ]
  },
  {
   "cell_type": "code",
   "execution_count": null,
   "metadata": {
    "colab": {},
    "colab_type": "code",
    "id": "eljdCLZljlgL",
    "lines_to_next_cell": 2,
    "outputId": "3d062b41-5bcb-4e63-c0a2-a2e92ac62e1e"
   },
   "outputs": [],
   "source": [
    "college_filtered_70 = grouped.filter(check_minority, threshold=.7)\n",
    "college_filtered_70.shape"
   ]
  },
  {
   "cell_type": "code",
   "execution_count": null,
   "metadata": {
    "colab": {},
    "colab_type": "code",
    "id": "3kFqmC5OjlgN",
    "lines_to_next_cell": 2,
    "outputId": "6ef04399-8c97-42b5-cd03-e7554e02aeb0"
   },
   "outputs": [],
   "source": [
    "college_filtered_70['STABBR'].nunique()"
   ]
  },
  {
   "cell_type": "markdown",
   "metadata": {
    "colab_type": "text",
    "id": "RqVkFWytjlgP"
   },
   "source": [
    "## Transforming through a weight loss bet"
   ]
  },
  {
   "cell_type": "markdown",
   "metadata": {
    "colab_type": "text",
    "id": "TYHloLJnjlgP"
   },
   "source": [
    "### How to do it..."
   ]
  },
  {
   "cell_type": "code",
   "execution_count": null,
   "metadata": {
    "colab": {},
    "colab_type": "code",
    "id": "efIlFQldjlgQ",
    "outputId": "1e0cfc68-3b48-4eda-a341-1f7c27defaad"
   },
   "outputs": [],
   "source": [
    "weight_loss = pd.read_csv('data/weight_loss.csv')\n",
    "weight_loss.query('Month == \"Jan\"')"
   ]
  },
  {
   "cell_type": "code",
   "execution_count": null,
   "metadata": {
    "colab": {},
    "colab_type": "code",
    "id": "gwiwTF7XjlgS"
   },
   "outputs": [],
   "source": [
    "def percent_loss(s):\n",
    "    return ((s - s.iloc[0]) / s.iloc[0]) * 100"
   ]
  },
  {
   "cell_type": "code",
   "execution_count": null,
   "metadata": {
    "colab": {},
    "colab_type": "code",
    "id": "biHReax7jlgT",
    "lines_to_next_cell": 2,
    "outputId": "d5fcec79-27a1-4997-ad1c-7f7d4d947cbe"
   },
   "outputs": [],
   "source": [
    "(weight_loss\n",
    "    .query('Name==\"Bob\" and Month==\"Jan\"')\n",
    "    ['Weight']\n",
    "    .pipe(percent_loss)\n",
    ")"
   ]
  },
  {
   "cell_type": "code",
   "execution_count": null,
   "metadata": {
    "colab": {},
    "colab_type": "code",
    "id": "YZ7Gw4h3jlgV",
    "lines_to_next_cell": 2,
    "outputId": "1d7b54b4-0c8d-4c12-a239-0d90da0f78e5"
   },
   "outputs": [],
   "source": [
    "(weight_loss\n",
    "    .groupby(['Name', 'Month'])\n",
    "    ['Weight'] \n",
    "    .transform(percent_loss)\n",
    ")"
   ]
  },
  {
   "cell_type": "code",
   "execution_count": null,
   "metadata": {
    "colab": {},
    "colab_type": "code",
    "id": "zHYOvjOhjlgX",
    "lines_to_next_cell": 2,
    "outputId": "092917b8-3222-424b-c7f8-b9e700fc3973"
   },
   "outputs": [],
   "source": [
    "(weight_loss\n",
    "    .assign(percent_loss=(weight_loss\n",
    "        .groupby(['Name', 'Month'])\n",
    "        ['Weight'] \n",
    "        .transform(percent_loss)\n",
    "        .round(1)))\n",
    "    .query('Name==\"Bob\" and Month in [\"Jan\", \"Feb\"]')\n",
    ")"
   ]
  },
  {
   "cell_type": "code",
   "execution_count": null,
   "metadata": {
    "colab": {},
    "colab_type": "code",
    "id": "BBWtzkVHjlgY",
    "lines_to_next_cell": 2,
    "outputId": "4d96fcd3-417c-4985-e111-4809ca42e180"
   },
   "outputs": [],
   "source": [
    "(weight_loss\n",
    "    .assign(percent_loss=(weight_loss\n",
    "        .groupby(['Name', 'Month'])\n",
    "        ['Weight'] \n",
    "        .transform(percent_loss)\n",
    "        .round(1)))\n",
    "    .query('Week == \"Week 4\"')\n",
    ")"
   ]
  },
  {
   "cell_type": "code",
   "execution_count": null,
   "metadata": {
    "colab": {},
    "colab_type": "code",
    "id": "8jg57ukQjlga",
    "lines_to_next_cell": 2,
    "outputId": "73b68306-7759-49c5-c10b-139ecac2aaae"
   },
   "outputs": [],
   "source": [
    "(weight_loss\n",
    "    .assign(percent_loss=(weight_loss\n",
    "        .groupby(['Name', 'Month'])\n",
    "        ['Weight'] \n",
    "        .transform(percent_loss)\n",
    "        .round(1)))\n",
    "    .query('Week == \"Week 4\"')\n",
    "    .pivot(index='Month', columns='Name',\n",
    "           values='percent_loss')\n",
    ")"
   ]
  },
  {
   "cell_type": "code",
   "execution_count": null,
   "metadata": {
    "colab": {},
    "colab_type": "code",
    "id": "JZ7vImyZjlgc",
    "lines_to_next_cell": 2,
    "outputId": "7307baa3-62d4-40f7-af51-bdcbfc3e8696"
   },
   "outputs": [],
   "source": [
    "(weight_loss\n",
    "    .assign(percent_loss=(weight_loss\n",
    "        .groupby(['Name', 'Month'])\n",
    "        ['Weight'] \n",
    "        .transform(percent_loss)\n",
    "        .round(1)))\n",
    "    .query('Week == \"Week 4\"')\n",
    "    .pivot(index='Month', columns='Name',\n",
    "           values='percent_loss')\n",
    "    .assign(winner=lambda df_:\n",
    "            np.where(df_.Amy < df_.Bob, 'Amy', 'Bob'))\n",
    ")"
   ]
  },
  {
   "cell_type": "code",
   "execution_count": null,
   "metadata": {
    "colab": {},
    "colab_type": "code",
    "id": "3I-GpBpLjlgd",
    "lines_to_next_cell": 2,
    "outputId": "d09f11b3-52ea-4149-88f5-6ed5ef1837dc"
   },
   "outputs": [],
   "source": [
    "(weight_loss\n",
    "    .assign(percent_loss=(weight_loss\n",
    "        .groupby(['Name', 'Month'])\n",
    "        ['Weight'] \n",
    "        .transform(percent_loss)\n",
    "        .round(1)))\n",
    "    .query('Week == \"Week 4\"')\n",
    "    .pivot(index='Month', columns='Name',\n",
    "           values='percent_loss')\n",
    "    .assign(winner=lambda df_:\n",
    "            np.where(df_.Amy < df_.Bob, 'Amy', 'Bob'))\n",
    "    .style.highlight_min(axis=1)\n",
    ")"
   ]
  },
  {
   "cell_type": "code",
   "execution_count": null,
   "metadata": {
    "colab": {},
    "colab_type": "code",
    "id": "SXbVqqO_jlgh",
    "lines_to_next_cell": 2,
    "outputId": "7f1a71e9-4d8e-4e23-b355-63c2d175725f"
   },
   "outputs": [],
   "source": [
    "(weight_loss\n",
    "    .assign(percent_loss=(weight_loss\n",
    "        .groupby(['Name', 'Month'])\n",
    "        ['Weight'] \n",
    "        .transform(percent_loss)\n",
    "        .round(1)))\n",
    "    .query('Week == \"Week 4\"')\n",
    "    .pivot(index='Month', columns='Name',\n",
    "           values='percent_loss')\n",
    "    .assign(winner=lambda df_:\n",
    "            np.where(df_.Amy < df_.Bob, 'Amy', 'Bob'))\n",
    "    .winner\n",
    "    .value_counts()\n",
    ")"
   ]
  },
  {
   "cell_type": "markdown",
   "metadata": {
    "colab_type": "text",
    "id": "kUj6A0pXjlgi"
   },
   "source": [
    "### How it works..."
   ]
  },
  {
   "cell_type": "code",
   "execution_count": null,
   "metadata": {
    "colab": {},
    "colab_type": "code",
    "id": "TfF41eYIjlgj",
    "lines_to_next_cell": 2,
    "outputId": "3aeb2786-6ab0-42bc-e1bc-9db8a589afb0"
   },
   "outputs": [],
   "source": [
    "(weight_loss\n",
    "    .assign(percent_loss=(weight_loss\n",
    "        .groupby(['Name', 'Month'])\n",
    "        ['Weight'] \n",
    "        .transform(percent_loss)\n",
    "        .round(1)))\n",
    "    .query('Week == \"Week 4\"')\n",
    "    .groupby(['Month', 'Name'])\n",
    "    ['percent_loss']\n",
    "    .first()\n",
    "    .unstack()\n",
    ")"
   ]
  },
  {
   "cell_type": "markdown",
   "metadata": {
    "colab_type": "text",
    "id": "2zJf0s7Cjlgl"
   },
   "source": [
    "### There's more..."
   ]
  },
  {
   "cell_type": "code",
   "execution_count": null,
   "metadata": {
    "colab": {},
    "colab_type": "code",
    "id": "66CT4BlDjlgl",
    "lines_to_next_cell": 2,
    "outputId": "a2af2483-9b52-4d1d-d2c0-0a7bc987cfe4"
   },
   "outputs": [],
   "source": [
    "(weight_loss\n",
    "    .assign(percent_loss=(weight_loss\n",
    "        .groupby(['Name', 'Month'])\n",
    "        ['Weight'] \n",
    "        .transform(percent_loss)\n",
    "        .round(1)),\n",
    "            Month=pd.Categorical(weight_loss.Month,\n",
    "                  categories=['Jan', 'Feb', 'Mar', 'Apr'],\n",
    "                  ordered=True))\n",
    "    .query('Week == \"Week 4\"')\n",
    "    .pivot(index='Month', columns='Name',\n",
    "           values='percent_loss')\n",
    ")"
   ]
  },
  {
   "cell_type": "markdown",
   "metadata": {
    "colab_type": "text",
    "id": "5fAuOWj8jlgo"
   },
   "source": [
    "## Calculating weighted mean SAT scores per state with apply"
   ]
  },
  {
   "cell_type": "markdown",
   "metadata": {
    "colab_type": "text",
    "id": "5MZv6C3Yjlgp"
   },
   "source": [
    "### How to do it..."
   ]
  },
  {
   "cell_type": "code",
   "execution_count": null,
   "metadata": {
    "colab": {},
    "colab_type": "code",
    "id": "GW6nbQzajlgp",
    "lines_to_next_cell": 2,
    "outputId": "9349a59e-603c-45b1-bb9c-11416f9ef129"
   },
   "outputs": [],
   "source": [
    "college = pd.read_csv('data/college.csv')\n",
    "subset = ['UGDS', 'SATMTMID', 'SATVRMID']\n",
    "college2 = college.dropna(subset=subset)\n",
    "college.shape"
   ]
  },
  {
   "cell_type": "code",
   "execution_count": null,
   "metadata": {
    "colab": {},
    "colab_type": "code",
    "id": "nncW8AhLjlgr",
    "outputId": "a0c0dd4e-16e8-464f-a9b4-50c923afc9bc"
   },
   "outputs": [],
   "source": [
    "college2.shape"
   ]
  },
  {
   "cell_type": "code",
   "execution_count": null,
   "metadata": {
    "colab": {},
    "colab_type": "code",
    "id": "dmHcj2ybjlgt"
   },
   "outputs": [],
   "source": [
    "def weighted_math_average(df):\n",
    "    weighted_math = df['UGDS'] * df['SATMTMID']\n",
    "    return int(weighted_math.sum() / df['UGDS'].sum())"
   ]
  },
  {
   "cell_type": "code",
   "execution_count": null,
   "metadata": {
    "colab": {},
    "colab_type": "code",
    "id": "9Y6lq7DVjlgv",
    "lines_to_next_cell": 2,
    "outputId": "48dc06fe-8dc6-4254-d424-8b06e0fc9849"
   },
   "outputs": [],
   "source": [
    "college2.groupby('STABBR').apply(weighted_math_average)"
   ]
  },
  {
   "cell_type": "code",
   "execution_count": null,
   "metadata": {
    "colab": {},
    "colab_type": "code",
    "id": "fQlWJI2xjlgx",
    "lines_to_next_cell": 2,
    "outputId": "65684ef1-ead8-40a5-b9e0-f9a05f68a070"
   },
   "outputs": [],
   "source": [
    "(college2\n",
    "    .groupby('STABBR')\n",
    "    .agg(weighted_math_average)\n",
    ")"
   ]
  },
  {
   "cell_type": "code",
   "execution_count": null,
   "metadata": {
    "colab": {},
    "colab_type": "code",
    "id": "7SKlGkOHjlgz",
    "outputId": "c493b52e-60c3-4d30-a3ad-9d2f2aea71a7"
   },
   "outputs": [],
   "source": [
    "(college2\n",
    "    .groupby('STABBR')\n",
    "    ['SATMTMID'] \n",
    "    .agg(weighted_math_average)\n",
    ")"
   ]
  },
  {
   "cell_type": "code",
   "execution_count": null,
   "metadata": {
    "colab": {},
    "colab_type": "code",
    "id": "fJuRkmecjlg1",
    "lines_to_next_cell": 2,
    "outputId": "62c7b8e8-32a3-4073-b100-963c2c7384cd"
   },
   "outputs": [],
   "source": [
    "def weighted_average(df):\n",
    "   weight_m = df['UGDS'] * df['SATMTMID']\n",
    "   weight_v = df['UGDS'] * df['SATVRMID']\n",
    "   wm_avg = weight_m.sum() / df['UGDS'].sum()\n",
    "   wv_avg = weight_v.sum() / df['UGDS'].sum()\n",
    "   data = {'w_math_avg': wm_avg,\n",
    "           'w_verbal_avg': wv_avg,\n",
    "           'math_avg': df['SATMTMID'].mean(),\n",
    "           'verbal_avg': df['SATVRMID'].mean(),\n",
    "           'count': len(df)\n",
    "   }\n",
    "   return pd.Series(data)\n",
    "(college2\n",
    "    .groupby('STABBR')\n",
    "    .apply(weighted_average)\n",
    "    .astype(int)\n",
    ")"
   ]
  },
  {
   "cell_type": "markdown",
   "metadata": {
    "colab_type": "text",
    "id": "2zEmWgYCjlg3"
   },
   "source": [
    "### How it works..."
   ]
  },
  {
   "cell_type": "code",
   "execution_count": null,
   "metadata": {
    "colab": {},
    "colab_type": "code",
    "id": "D-8wn1cyjlg3",
    "lines_to_next_cell": 2,
    "outputId": "6c64073f-de95-4eaf-ee09-7111a76c8896"
   },
   "outputs": [],
   "source": [
    "(college\n",
    "    .groupby('STABBR')\n",
    "    .apply(weighted_average)\n",
    ")"
   ]
  },
  {
   "cell_type": "markdown",
   "metadata": {
    "colab_type": "text",
    "id": "31efInTjjlg6"
   },
   "source": [
    "### There's more..."
   ]
  },
  {
   "cell_type": "code",
   "execution_count": null,
   "metadata": {
    "colab": {},
    "colab_type": "code",
    "id": "0HP1coDxjlg7",
    "lines_to_next_cell": 2,
    "outputId": "002cc698-362c-4a21-b041-64f037708bfe"
   },
   "outputs": [],
   "source": [
    "from scipy.stats import gmean, hmean\n",
    "def calculate_means(df):\n",
    "    df_means = pd.DataFrame(index=['Arithmetic', 'Weighted',\n",
    "                                   'Geometric', 'Harmonic'])\n",
    "    cols = ['SATMTMID', 'SATVRMID']\n",
    "    for col in cols:\n",
    "        arithmetic = df[col].mean()\n",
    "        weighted = np.average(df[col], weights=df['UGDS'])\n",
    "        geometric = gmean(df[col])\n",
    "        harmonic = hmean(df[col])\n",
    "        df_means[col] = [arithmetic, weighted,\n",
    "                         geometric, harmonic]\n",
    "    df_means['count'] = len(df)\n",
    "    return df_means.astype(int)\n",
    "(college2\n",
    "    .groupby('STABBR')\n",
    "    .apply(calculate_means)\n",
    ")"
   ]
  },
  {
   "cell_type": "markdown",
   "metadata": {
    "colab_type": "text",
    "id": "PMYXsuMxjlg-"
   },
   "source": [
    "## Grouping by continuous variables"
   ]
  },
  {
   "cell_type": "markdown",
   "metadata": {
    "colab_type": "text",
    "id": "X17i7IPJjlg-"
   },
   "source": [
    "### How to do it..."
   ]
  },
  {
   "cell_type": "code",
   "execution_count": null,
   "metadata": {
    "colab": {},
    "colab_type": "code",
    "id": "KF8KQn8Njlg_",
    "lines_to_next_cell": 2,
    "outputId": "bb916c5b-ed4b-4b3a-f782-be42dd565021"
   },
   "outputs": [],
   "source": [
    "flights = pd.read_csv('data/flights.csv')\n",
    "flights"
   ]
  },
  {
   "cell_type": "code",
   "execution_count": null,
   "metadata": {
    "colab": {},
    "colab_type": "code",
    "id": "pWAazw7ejlhB",
    "lines_to_next_cell": 2,
    "outputId": "61e4b088-b2b4-4971-82d5-16330f12a7bb"
   },
   "outputs": [],
   "source": [
    "bins = [-np.inf, 200, 500, 1000, 2000, np.inf]\n",
    "cuts = pd.cut(flights['DIST'], bins=bins)\n",
    "cuts"
   ]
  },
  {
   "cell_type": "code",
   "execution_count": null,
   "metadata": {
    "colab": {},
    "colab_type": "code",
    "id": "HCopAKvSjlhD",
    "lines_to_next_cell": 2,
    "outputId": "40e4e2d8-6f77-482b-da8e-b4031e9a8034"
   },
   "outputs": [],
   "source": [
    "cuts.value_counts()"
   ]
  },
  {
   "cell_type": "code",
   "execution_count": null,
   "metadata": {
    "colab": {},
    "colab_type": "code",
    "id": "EbZ8Y6c7jlhE",
    "lines_to_next_cell": 2,
    "outputId": "d91edb67-862a-4556-9fe4-9f5b040f63d1"
   },
   "outputs": [],
   "source": [
    "(flights\n",
    "    .groupby(cuts)\n",
    "    ['AIRLINE']\n",
    "    .value_counts(normalize=True) \n",
    "    .round(3)\n",
    ")"
   ]
  },
  {
   "cell_type": "markdown",
   "metadata": {
    "colab_type": "text",
    "id": "0ysrgFzZjlhF"
   },
   "source": [
    "### How it works..."
   ]
  },
  {
   "cell_type": "markdown",
   "metadata": {
    "colab_type": "text",
    "id": "N0Yic1sCjlhG"
   },
   "source": [
    "### There's more..."
   ]
  },
  {
   "cell_type": "code",
   "execution_count": null,
   "metadata": {
    "colab": {},
    "colab_type": "code",
    "id": "N11_oQ_0jlhG",
    "lines_to_next_cell": 2,
    "outputId": "c64e34f1-edb1-4b96-9053-917297c24423"
   },
   "outputs": [],
   "source": [
    "(flights\n",
    "  .groupby(cuts)\n",
    "  ['AIR_TIME']\n",
    "  .quantile(q=[.25, .5, .75]) \n",
    "  .div(60)\n",
    "  .round(2)\n",
    ")"
   ]
  },
  {
   "cell_type": "code",
   "execution_count": null,
   "metadata": {
    "colab": {},
    "colab_type": "code",
    "id": "YzoS794EjlhI",
    "lines_to_next_cell": 2,
    "outputId": "de1f1abd-4d14-4816-dd4b-e94def0361d8"
   },
   "outputs": [],
   "source": [
    "labels=['Under an Hour', '1 Hour', '1-2 Hours',\n",
    "        '2-4 Hours', '4+ Hours']\n",
    "cuts2 = pd.cut(flights['DIST'], bins=bins, labels=labels)\n",
    "(flights\n",
    "   .groupby(cuts2)\n",
    "   ['AIRLINE']\n",
    "   .value_counts(normalize=True) \n",
    "   .round(3) \n",
    "   .unstack() \n",
    ")"
   ]
  },
  {
   "cell_type": "markdown",
   "metadata": {
    "colab_type": "text",
    "id": "wy7p7Xq_jlhJ"
   },
   "source": [
    "## Counting the total number of flights between cities"
   ]
  },
  {
   "cell_type": "markdown",
   "metadata": {
    "colab_type": "text",
    "id": "p2VUURQGjlhK"
   },
   "source": [
    "### How to do it..."
   ]
  },
  {
   "cell_type": "code",
   "execution_count": null,
   "metadata": {
    "colab": {},
    "colab_type": "code",
    "id": "jemHcdbEjlhK",
    "lines_to_next_cell": 2,
    "outputId": "ec8aa84a-d49b-4a05-fcc7-74ad4b2b3563"
   },
   "outputs": [],
   "source": [
    "flights = pd.read_csv('data/flights.csv')\n",
    "flights_ct = flights.groupby(['ORG_AIR', 'DEST_AIR']).size()\n",
    "flights_ct"
   ]
  },
  {
   "cell_type": "code",
   "execution_count": null,
   "metadata": {
    "colab": {},
    "colab_type": "code",
    "id": "ggTM6FNljlhN",
    "lines_to_next_cell": 2,
    "outputId": "6c73a219-5f8b-4cba-ee7b-647fd7bf686e"
   },
   "outputs": [],
   "source": [
    "flights_ct.loc[[('ATL', 'IAH'), ('IAH', 'ATL')]]"
   ]
  },
  {
   "cell_type": "code",
   "execution_count": null,
   "metadata": {
    "colab": {},
    "colab_type": "code",
    "id": "ZHrVviWAjlhO",
    "lines_to_next_cell": 2,
    "outputId": "9a836510-2899-47dc-90ee-956969682c25"
   },
   "outputs": [],
   "source": [
    "f_part3 = (flights  # doctest: +SKIP\n",
    "  [['ORG_AIR', 'DEST_AIR']] \n",
    "  .apply(lambda ser:\n",
    "         ser.sort_values().reset_index(drop=True),\n",
    "         axis='columns')\n",
    ")\n",
    "f_part3"
   ]
  },
  {
   "cell_type": "code",
   "execution_count": null,
   "metadata": {
    "colab": {},
    "colab_type": "code",
    "id": "IcjEf4CEjlhQ",
    "lines_to_next_cell": 2,
    "outputId": "809ef6a4-e7fb-4163-859e-58a87995f26d"
   },
   "outputs": [],
   "source": [
    "rename_dict = {0:'AIR1', 1:'AIR2'}  \n",
    "(flights     # doctest: +SKIP\n",
    "  [['ORG_AIR', 'DEST_AIR']]\n",
    "  .apply(lambda ser:\n",
    "         ser.sort_values().reset_index(drop=True),\n",
    "         axis='columns')\n",
    "  .rename(columns=rename_dict)\n",
    "  .groupby(['AIR1', 'AIR2'])\n",
    "  .size()\n",
    ")"
   ]
  },
  {
   "cell_type": "code",
   "execution_count": null,
   "metadata": {
    "colab": {},
    "colab_type": "code",
    "id": "-x_Zl39qjlhU",
    "lines_to_next_cell": 2,
    "outputId": "b2bcb138-b93a-4572-89ce-21fa4eaab382"
   },
   "outputs": [],
   "source": [
    "(flights     # doctest: +SKIP\n",
    "  [['ORG_AIR', 'DEST_AIR']]\n",
    "  .apply(lambda ser:\n",
    "         ser.sort_values().reset_index(drop=True),\n",
    "         axis='columns')\n",
    "  .rename(columns=rename_dict)\n",
    "  .groupby(['AIR1', 'AIR2'])\n",
    "  .size()\n",
    "  .loc[('ATL', 'IAH')]\n",
    ")"
   ]
  },
  {
   "cell_type": "code",
   "execution_count": null,
   "metadata": {
    "colab": {},
    "colab_type": "code",
    "id": "vHE61GZsjlhV",
    "lines_to_next_cell": 2,
    "outputId": "63dbddd0-5160-428b-96a5-d105f56db410"
   },
   "outputs": [],
   "source": [
    "(flights     # doctest: +SKIP\n",
    "  [['ORG_AIR', 'DEST_AIR']]\n",
    "  .apply(lambda ser:\n",
    "         ser.sort_values().reset_index(drop=True),\n",
    "         axis='columns')\n",
    "  .rename(columns=rename_dict)\n",
    "  .groupby(['AIR1', 'AIR2'])\n",
    "  .size()\n",
    "  .loc[('IAH', 'ATL')]\n",
    ")"
   ]
  },
  {
   "cell_type": "markdown",
   "metadata": {
    "colab_type": "text",
    "id": "NJJ_Yg4JjlhW"
   },
   "source": [
    "### How it works..."
   ]
  },
  {
   "cell_type": "markdown",
   "metadata": {
    "colab_type": "text",
    "id": "8akfd-5PjlhX"
   },
   "source": [
    "### There's more ..."
   ]
  },
  {
   "cell_type": "code",
   "execution_count": null,
   "metadata": {
    "colab": {},
    "colab_type": "code",
    "id": "XSuG-sy1jlhX",
    "lines_to_next_cell": 2,
    "outputId": "3dde8895-819e-4cf9-d20d-bff7a82c57aa"
   },
   "outputs": [],
   "source": [
    "data_sorted = np.sort(flights[['ORG_AIR', 'DEST_AIR']])\n",
    "data_sorted[:10]"
   ]
  },
  {
   "cell_type": "code",
   "execution_count": null,
   "metadata": {
    "colab": {},
    "colab_type": "code",
    "id": "dR5vgyoVjlhZ",
    "lines_to_next_cell": 2,
    "outputId": "9f4eedea-caa8-4579-e69c-0eb0068c8865"
   },
   "outputs": [],
   "source": [
    "flights_sort2 = pd.DataFrame(data_sorted, columns=['AIR1', 'AIR2'])\n",
    "flights_sort2.equals(f_part3.rename(columns={0:'AIR1',\n",
    "    1:'AIR2'}))"
   ]
  },
  {
   "cell_type": "markdown",
   "metadata": {
    "colab_type": "raw",
    "id": "GA3CTerBjlha",
    "lines_to_next_cell": 2
   },
   "source": [
    "%%timeit\n",
    "flights_sort = (flights   # doctest: +SKIP\n",
    "    [['ORG_AIR', 'DEST_AIR']] \n",
    "   .apply(lambda ser:\n",
    "         ser.sort_values().reset_index(drop=True),\n",
    "         axis='columns')\n",
    ")"
   ]
  },
  {
   "cell_type": "code",
   "execution_count": null,
   "metadata": {
    "colab": {},
    "colab_type": "code",
    "id": "dQ9jWo09jlha",
    "lines_to_next_cell": 2
   },
   "outputs": [],
   "source": [
    "%%timeit\n",
    "data_sorted = np.sort(flights[['ORG_AIR', 'DEST_AIR']])\n",
    "flights_sort2 = pd.DataFrame(data_sorted,\n",
    "    columns=['AIR1', 'AIR2'])"
   ]
  },
  {
   "cell_type": "markdown",
   "metadata": {
    "colab_type": "text",
    "id": "t9TkILSrjlhb"
   },
   "source": [
    "## Finding the longest streak of on-time flights"
   ]
  },
  {
   "cell_type": "markdown",
   "metadata": {
    "colab_type": "text",
    "id": "gbjdDfF9jlhb"
   },
   "source": [
    "### How to do it..."
   ]
  },
  {
   "cell_type": "code",
   "execution_count": null,
   "metadata": {
    "colab": {},
    "colab_type": "code",
    "id": "vm-XBi0Njlhc",
    "lines_to_next_cell": 2,
    "outputId": "07cc66ac-fbeb-46b2-9b6d-a7ec46699adc"
   },
   "outputs": [],
   "source": [
    "s = pd.Series([0, 1, 1, 0, 1, 1, 1, 0])\n",
    "s"
   ]
  },
  {
   "cell_type": "code",
   "execution_count": null,
   "metadata": {
    "colab": {},
    "colab_type": "code",
    "id": "yrPSUsayjlhd",
    "lines_to_next_cell": 2,
    "outputId": "d68fd6aa-558e-49bb-8f80-5efbd9bca487"
   },
   "outputs": [],
   "source": [
    "s1 = s.cumsum()\n",
    "s1"
   ]
  },
  {
   "cell_type": "code",
   "execution_count": null,
   "metadata": {
    "colab": {},
    "colab_type": "code",
    "id": "s2Kbnn6ljlhe",
    "lines_to_next_cell": 2,
    "outputId": "76f3beb6-5860-47ea-9400-c60158a2cd80"
   },
   "outputs": [],
   "source": [
    "s.mul(s1)"
   ]
  },
  {
   "cell_type": "code",
   "execution_count": null,
   "metadata": {
    "colab": {},
    "colab_type": "code",
    "id": "hkgAS9gtjlhg",
    "lines_to_next_cell": 2,
    "outputId": "2a97a0ab-5ab4-45e0-e20d-f730048cf8a2"
   },
   "outputs": [],
   "source": [
    "s.mul(s1).diff()"
   ]
  },
  {
   "cell_type": "code",
   "execution_count": null,
   "metadata": {
    "colab": {},
    "colab_type": "code",
    "id": "uTIuwYTpjlhh",
    "lines_to_next_cell": 2,
    "outputId": "4c436505-ebdd-4af7-bd87-1d5fbdf976b0"
   },
   "outputs": [],
   "source": [
    "(s\n",
    "    .mul(s.cumsum())\n",
    "    .diff()\n",
    "    .where(lambda x: x < 0)\n",
    ")"
   ]
  },
  {
   "cell_type": "code",
   "execution_count": null,
   "metadata": {
    "colab": {},
    "colab_type": "code",
    "id": "g5UjYx4Ojlhi",
    "lines_to_next_cell": 2,
    "outputId": "7de7fed7-c583-4210-e447-e63729747efa"
   },
   "outputs": [],
   "source": [
    "(s\n",
    "    .mul(s.cumsum())\n",
    "    .diff()\n",
    "    .where(lambda x: x < 0)\n",
    "    .ffill()\n",
    ")"
   ]
  },
  {
   "cell_type": "code",
   "execution_count": null,
   "metadata": {
    "colab": {},
    "colab_type": "code",
    "id": "iYK6fUnKjlhj",
    "lines_to_next_cell": 2,
    "outputId": "9e2a21cf-e794-4387-e769-e33b0943fb1c"
   },
   "outputs": [],
   "source": [
    "(s\n",
    "    .mul(s.cumsum())\n",
    "    .diff()\n",
    "    .where(lambda x: x < 0)\n",
    "    .ffill()\n",
    "    .add(s.cumsum(), fill_value=0)\n",
    ")"
   ]
  },
  {
   "cell_type": "code",
   "execution_count": 9,
   "metadata": {
    "colab": {},
    "colab_type": "code",
    "id": "RHcTJiTRjlhk",
    "outputId": "1c5c0eb2-9ae3-486a-eb70-f79db4be4e5c"
   },
   "outputs": [
    {
     "data": {
      "text/html": [
       "<div>\n",
       "<style scoped>\n",
       "    .dataframe tbody tr th:only-of-type {\n",
       "        vertical-align: middle;\n",
       "    }\n",
       "\n",
       "    .dataframe tbody tr th {\n",
       "        vertical-align: top;\n",
       "    }\n",
       "\n",
       "    .dataframe thead th {\n",
       "        text-align: right;\n",
       "    }\n",
       "</style>\n",
       "<table border=\"1\" class=\"dataframe\">\n",
       "  <thead>\n",
       "    <tr style=\"text-align: right;\">\n",
       "      <th></th>\n",
       "      <th>AIRLINE</th>\n",
       "      <th>ORG_AIR</th>\n",
       "      <th>ON_TIME</th>\n",
       "    </tr>\n",
       "  </thead>\n",
       "  <tbody>\n",
       "    <tr>\n",
       "      <th>0</th>\n",
       "      <td>WN</td>\n",
       "      <td>LAX</td>\n",
       "      <td>0</td>\n",
       "    </tr>\n",
       "    <tr>\n",
       "      <th>1</th>\n",
       "      <td>UA</td>\n",
       "      <td>DEN</td>\n",
       "      <td>1</td>\n",
       "    </tr>\n",
       "    <tr>\n",
       "      <th>2</th>\n",
       "      <td>MQ</td>\n",
       "      <td>DFW</td>\n",
       "      <td>0</td>\n",
       "    </tr>\n",
       "    <tr>\n",
       "      <th>3</th>\n",
       "      <td>AA</td>\n",
       "      <td>DFW</td>\n",
       "      <td>1</td>\n",
       "    </tr>\n",
       "    <tr>\n",
       "      <th>4</th>\n",
       "      <td>WN</td>\n",
       "      <td>LAX</td>\n",
       "      <td>0</td>\n",
       "    </tr>\n",
       "    <tr>\n",
       "      <th>...</th>\n",
       "      <td>...</td>\n",
       "      <td>...</td>\n",
       "      <td>...</td>\n",
       "    </tr>\n",
       "    <tr>\n",
       "      <th>58487</th>\n",
       "      <td>AA</td>\n",
       "      <td>SFO</td>\n",
       "      <td>1</td>\n",
       "    </tr>\n",
       "    <tr>\n",
       "      <th>58488</th>\n",
       "      <td>F9</td>\n",
       "      <td>LAS</td>\n",
       "      <td>1</td>\n",
       "    </tr>\n",
       "    <tr>\n",
       "      <th>58489</th>\n",
       "      <td>OO</td>\n",
       "      <td>SFO</td>\n",
       "      <td>1</td>\n",
       "    </tr>\n",
       "    <tr>\n",
       "      <th>58490</th>\n",
       "      <td>WN</td>\n",
       "      <td>MSP</td>\n",
       "      <td>0</td>\n",
       "    </tr>\n",
       "    <tr>\n",
       "      <th>58491</th>\n",
       "      <td>OO</td>\n",
       "      <td>SFO</td>\n",
       "      <td>1</td>\n",
       "    </tr>\n",
       "  </tbody>\n",
       "</table>\n",
       "<p>58492 rows × 3 columns</p>\n",
       "</div>"
      ],
      "text/plain": [
       "      AIRLINE ORG_AIR  ON_TIME\n",
       "0          WN     LAX        0\n",
       "1          UA     DEN        1\n",
       "2          MQ     DFW        0\n",
       "3          AA     DFW        1\n",
       "4          WN     LAX        0\n",
       "...       ...     ...      ...\n",
       "58487      AA     SFO        1\n",
       "58488      F9     LAS        1\n",
       "58489      OO     SFO        1\n",
       "58490      WN     MSP        0\n",
       "58491      OO     SFO        1\n",
       "\n",
       "[58492 rows x 3 columns]"
      ]
     },
     "execution_count": 9,
     "metadata": {},
     "output_type": "execute_result"
    }
   ],
   "source": [
    "flights = pd.read_csv('data/flights.csv')\n",
    "(flights\n",
    "    .assign(ON_TIME=flights['ARR_DELAY'].lt(15).astype(int))\n",
    "    [['AIRLINE', 'ORG_AIR', 'ON_TIME']]\n",
    ")"
   ]
  },
  {
   "cell_type": "code",
   "execution_count": 10,
   "metadata": {
    "colab": {},
    "colab_type": "code",
    "id": "SHXFNRtejlhl"
   },
   "outputs": [],
   "source": [
    "def max_streak(s):\n",
    "    s1 = s.cumsum()\n",
    "    return (s\n",
    "       .mul(s1)\n",
    "       .diff()\n",
    "       .where(lambda x: x < 0) \n",
    "       .ffill()\n",
    "       .add(s1, fill_value=0)\n",
    "       .max()\n",
    "    )"
   ]
  },
  {
   "cell_type": "code",
   "execution_count": 11,
   "metadata": {
    "colab": {},
    "colab_type": "code",
    "id": "Vula7suvjlhn",
    "outputId": "1ba8eb9c-7314-47f1-f57b-23c71db601f2"
   },
   "outputs": [
    {
     "data": {
      "text/html": [
       "<div>\n",
       "<style scoped>\n",
       "    .dataframe tbody tr th:only-of-type {\n",
       "        vertical-align: middle;\n",
       "    }\n",
       "\n",
       "    .dataframe tbody tr th {\n",
       "        vertical-align: top;\n",
       "    }\n",
       "\n",
       "    .dataframe thead th {\n",
       "        text-align: right;\n",
       "    }\n",
       "</style>\n",
       "<table border=\"1\" class=\"dataframe\">\n",
       "  <thead>\n",
       "    <tr style=\"text-align: right;\">\n",
       "      <th></th>\n",
       "      <th></th>\n",
       "      <th>mean</th>\n",
       "      <th>size</th>\n",
       "      <th>max_streak</th>\n",
       "    </tr>\n",
       "    <tr>\n",
       "      <th>AIRLINE</th>\n",
       "      <th>ORG_AIR</th>\n",
       "      <th></th>\n",
       "      <th></th>\n",
       "      <th></th>\n",
       "    </tr>\n",
       "  </thead>\n",
       "  <tbody>\n",
       "    <tr>\n",
       "      <th rowspan=\"5\" valign=\"top\">AA</th>\n",
       "      <th>ATL</th>\n",
       "      <td>0.82</td>\n",
       "      <td>233</td>\n",
       "      <td>15.0</td>\n",
       "    </tr>\n",
       "    <tr>\n",
       "      <th>DEN</th>\n",
       "      <td>0.74</td>\n",
       "      <td>219</td>\n",
       "      <td>17.0</td>\n",
       "    </tr>\n",
       "    <tr>\n",
       "      <th>DFW</th>\n",
       "      <td>0.78</td>\n",
       "      <td>4006</td>\n",
       "      <td>64.0</td>\n",
       "    </tr>\n",
       "    <tr>\n",
       "      <th>IAH</th>\n",
       "      <td>0.80</td>\n",
       "      <td>196</td>\n",
       "      <td>24.0</td>\n",
       "    </tr>\n",
       "    <tr>\n",
       "      <th>LAS</th>\n",
       "      <td>0.79</td>\n",
       "      <td>374</td>\n",
       "      <td>29.0</td>\n",
       "    </tr>\n",
       "    <tr>\n",
       "      <th>...</th>\n",
       "      <th>...</th>\n",
       "      <td>...</td>\n",
       "      <td>...</td>\n",
       "      <td>...</td>\n",
       "    </tr>\n",
       "    <tr>\n",
       "      <th rowspan=\"5\" valign=\"top\">WN</th>\n",
       "      <th>LAS</th>\n",
       "      <td>0.77</td>\n",
       "      <td>2031</td>\n",
       "      <td>39.0</td>\n",
       "    </tr>\n",
       "    <tr>\n",
       "      <th>LAX</th>\n",
       "      <td>0.70</td>\n",
       "      <td>1135</td>\n",
       "      <td>23.0</td>\n",
       "    </tr>\n",
       "    <tr>\n",
       "      <th>MSP</th>\n",
       "      <td>0.84</td>\n",
       "      <td>237</td>\n",
       "      <td>32.0</td>\n",
       "    </tr>\n",
       "    <tr>\n",
       "      <th>PHX</th>\n",
       "      <td>0.77</td>\n",
       "      <td>1724</td>\n",
       "      <td>33.0</td>\n",
       "    </tr>\n",
       "    <tr>\n",
       "      <th>SFO</th>\n",
       "      <td>0.76</td>\n",
       "      <td>445</td>\n",
       "      <td>17.0</td>\n",
       "    </tr>\n",
       "  </tbody>\n",
       "</table>\n",
       "<p>114 rows × 3 columns</p>\n",
       "</div>"
      ],
      "text/plain": [
       "                 mean  size  max_streak\n",
       "AIRLINE ORG_AIR                        \n",
       "AA      ATL      0.82   233        15.0\n",
       "        DEN      0.74   219        17.0\n",
       "        DFW      0.78  4006        64.0\n",
       "        IAH      0.80   196        24.0\n",
       "        LAS      0.79   374        29.0\n",
       "...               ...   ...         ...\n",
       "WN      LAS      0.77  2031        39.0\n",
       "        LAX      0.70  1135        23.0\n",
       "        MSP      0.84   237        32.0\n",
       "        PHX      0.77  1724        33.0\n",
       "        SFO      0.76   445        17.0\n",
       "\n",
       "[114 rows x 3 columns]"
      ]
     },
     "execution_count": 11,
     "metadata": {},
     "output_type": "execute_result"
    }
   ],
   "source": [
    "(flights\n",
    "    .assign(ON_TIME=flights['ARR_DELAY'].lt(15).astype(int))\n",
    "    .sort_values(['MONTH', 'DAY', 'SCHED_DEP']) \n",
    "    .groupby(['AIRLINE', 'ORG_AIR'])\n",
    "    ['ON_TIME'] \n",
    "    .agg(['mean', 'size', max_streak])\n",
    "    .round(2)\n",
    ")"
   ]
  },
  {
   "cell_type": "markdown",
   "metadata": {
    "colab_type": "text",
    "id": "sPmplQX3jlhq"
   },
   "source": [
    "### How it works..."
   ]
  },
  {
   "cell_type": "markdown",
   "metadata": {
    "colab_type": "text",
    "id": "H4d7hsLtjlhq"
   },
   "source": [
    "### There's more..."
   ]
  },
  {
   "cell_type": "code",
   "execution_count": 12,
   "metadata": {
    "colab": {},
    "colab_type": "code",
    "id": "2f984iqojlhq"
   },
   "outputs": [],
   "source": [
    "def max_delay_streak(df):\n",
    "    df = df.reset_index(drop=True)\n",
    "    late = 1 - df['ON_TIME']\n",
    "    late_sum = late.cumsum()\n",
    "    streak = (late\n",
    "        .mul(late_sum)\n",
    "        .diff()\n",
    "        .where(lambda x: x < 0) \n",
    "        .ffill()\n",
    "        .add(late_sum, fill_value=0)\n",
    "    )\n",
    "    last_idx = streak.idxmax()\n",
    "    first_idx = last_idx - streak.max() + 1\n",
    "    res = (df\n",
    "        .loc[[first_idx, last_idx], ['MONTH', 'DAY']]\n",
    "        .assign(streak=streak.max())\n",
    "    )\n",
    "    res.index = ['first', 'last']\n",
    "    return res"
   ]
  },
  {
   "cell_type": "code",
   "execution_count": 13,
   "metadata": {
    "colab": {},
    "colab_type": "code",
    "id": "vHXB1y4zjlht",
    "outputId": "dad0cb29-2c52-48b9-b8fb-c96fce02871b"
   },
   "outputs": [
    {
     "ename": "KeyError",
     "evalue": "'[1.0] not in index'",
     "output_type": "error",
     "traceback": [
      "\u001b[1;31m---------------------------------------------------------------------------\u001b[0m",
      "\u001b[1;31mKeyError\u001b[0m                                  Traceback (most recent call last)",
      "\u001b[1;32m~\\AppData\\Local\\Temp/ipykernel_14024/1850905317.py\u001b[0m in \u001b[0;36m<module>\u001b[1;34m\u001b[0m\n\u001b[0;32m      3\u001b[0m     \u001b[1;33m.\u001b[0m\u001b[0msort_values\u001b[0m\u001b[1;33m(\u001b[0m\u001b[1;33m[\u001b[0m\u001b[1;34m'MONTH'\u001b[0m\u001b[1;33m,\u001b[0m \u001b[1;34m'DAY'\u001b[0m\u001b[1;33m,\u001b[0m \u001b[1;34m'SCHED_DEP'\u001b[0m\u001b[1;33m]\u001b[0m\u001b[1;33m)\u001b[0m\u001b[1;33m\u001b[0m\u001b[1;33m\u001b[0m\u001b[0m\n\u001b[0;32m      4\u001b[0m     \u001b[1;33m.\u001b[0m\u001b[0mgroupby\u001b[0m\u001b[1;33m(\u001b[0m\u001b[1;33m[\u001b[0m\u001b[1;34m'AIRLINE'\u001b[0m\u001b[1;33m,\u001b[0m \u001b[1;34m'ORG_AIR'\u001b[0m\u001b[1;33m]\u001b[0m\u001b[1;33m)\u001b[0m\u001b[1;33m\u001b[0m\u001b[1;33m\u001b[0m\u001b[0m\n\u001b[1;32m----> 5\u001b[1;33m     \u001b[1;33m.\u001b[0m\u001b[0mapply\u001b[0m\u001b[1;33m(\u001b[0m\u001b[0mmax_delay_streak\u001b[0m\u001b[1;33m)\u001b[0m\u001b[1;33m\u001b[0m\u001b[1;33m\u001b[0m\u001b[0m\n\u001b[0m\u001b[0;32m      6\u001b[0m     \u001b[1;33m.\u001b[0m\u001b[0msort_values\u001b[0m\u001b[1;33m(\u001b[0m\u001b[1;34m'streak'\u001b[0m\u001b[1;33m,\u001b[0m \u001b[0mascending\u001b[0m\u001b[1;33m=\u001b[0m\u001b[1;32mFalse\u001b[0m\u001b[1;33m)\u001b[0m\u001b[1;33m\u001b[0m\u001b[1;33m\u001b[0m\u001b[0m\n\u001b[0;32m      7\u001b[0m )\n",
      "\u001b[1;32m~\\anaconda3\\envs\\deep-learning-gpu\\lib\\site-packages\\pandas\\core\\groupby\\groupby.py\u001b[0m in \u001b[0;36mapply\u001b[1;34m(self, func, *args, **kwargs)\u001b[0m\n\u001b[0;32m   1273\u001b[0m         \u001b[1;32mwith\u001b[0m \u001b[0moption_context\u001b[0m\u001b[1;33m(\u001b[0m\u001b[1;34m\"mode.chained_assignment\"\u001b[0m\u001b[1;33m,\u001b[0m \u001b[1;32mNone\u001b[0m\u001b[1;33m)\u001b[0m\u001b[1;33m:\u001b[0m\u001b[1;33m\u001b[0m\u001b[1;33m\u001b[0m\u001b[0m\n\u001b[0;32m   1274\u001b[0m             \u001b[1;32mtry\u001b[0m\u001b[1;33m:\u001b[0m\u001b[1;33m\u001b[0m\u001b[1;33m\u001b[0m\u001b[0m\n\u001b[1;32m-> 1275\u001b[1;33m                 \u001b[0mresult\u001b[0m \u001b[1;33m=\u001b[0m \u001b[0mself\u001b[0m\u001b[1;33m.\u001b[0m\u001b[0m_python_apply_general\u001b[0m\u001b[1;33m(\u001b[0m\u001b[0mf\u001b[0m\u001b[1;33m,\u001b[0m \u001b[0mself\u001b[0m\u001b[1;33m.\u001b[0m\u001b[0m_selected_obj\u001b[0m\u001b[1;33m)\u001b[0m\u001b[1;33m\u001b[0m\u001b[1;33m\u001b[0m\u001b[0m\n\u001b[0m\u001b[0;32m   1276\u001b[0m             \u001b[1;32mexcept\u001b[0m \u001b[0mTypeError\u001b[0m\u001b[1;33m:\u001b[0m\u001b[1;33m\u001b[0m\u001b[1;33m\u001b[0m\u001b[0m\n\u001b[0;32m   1277\u001b[0m                 \u001b[1;31m# gh-20949\u001b[0m\u001b[1;33m\u001b[0m\u001b[1;33m\u001b[0m\u001b[1;33m\u001b[0m\u001b[0m\n",
      "\u001b[1;32m~\\anaconda3\\envs\\deep-learning-gpu\\lib\\site-packages\\pandas\\core\\groupby\\groupby.py\u001b[0m in \u001b[0;36m_python_apply_general\u001b[1;34m(self, f, data)\u001b[0m\n\u001b[0;32m   1307\u001b[0m             \u001b[0mdata\u001b[0m \u001b[0mafter\u001b[0m \u001b[0mapplying\u001b[0m \u001b[0mf\u001b[0m\u001b[1;33m\u001b[0m\u001b[1;33m\u001b[0m\u001b[0m\n\u001b[0;32m   1308\u001b[0m         \"\"\"\n\u001b[1;32m-> 1309\u001b[1;33m         \u001b[0mkeys\u001b[0m\u001b[1;33m,\u001b[0m \u001b[0mvalues\u001b[0m\u001b[1;33m,\u001b[0m \u001b[0mmutated\u001b[0m \u001b[1;33m=\u001b[0m \u001b[0mself\u001b[0m\u001b[1;33m.\u001b[0m\u001b[0mgrouper\u001b[0m\u001b[1;33m.\u001b[0m\u001b[0mapply\u001b[0m\u001b[1;33m(\u001b[0m\u001b[0mf\u001b[0m\u001b[1;33m,\u001b[0m \u001b[0mdata\u001b[0m\u001b[1;33m,\u001b[0m \u001b[0mself\u001b[0m\u001b[1;33m.\u001b[0m\u001b[0maxis\u001b[0m\u001b[1;33m)\u001b[0m\u001b[1;33m\u001b[0m\u001b[1;33m\u001b[0m\u001b[0m\n\u001b[0m\u001b[0;32m   1310\u001b[0m \u001b[1;33m\u001b[0m\u001b[0m\n\u001b[0;32m   1311\u001b[0m         return self._wrap_applied_output(\n",
      "\u001b[1;32m~\\anaconda3\\envs\\deep-learning-gpu\\lib\\site-packages\\pandas\\core\\groupby\\ops.py\u001b[0m in \u001b[0;36mapply\u001b[1;34m(self, f, data, axis)\u001b[0m\n\u001b[0;32m    802\u001b[0m             \u001b[1;32mtry\u001b[0m\u001b[1;33m:\u001b[0m\u001b[1;33m\u001b[0m\u001b[1;33m\u001b[0m\u001b[0m\n\u001b[0;32m    803\u001b[0m                 \u001b[0msdata\u001b[0m \u001b[1;33m=\u001b[0m \u001b[0msplitter\u001b[0m\u001b[1;33m.\u001b[0m\u001b[0msorted_data\u001b[0m\u001b[1;33m\u001b[0m\u001b[1;33m\u001b[0m\u001b[0m\n\u001b[1;32m--> 804\u001b[1;33m                 \u001b[0mresult_values\u001b[0m\u001b[1;33m,\u001b[0m \u001b[0mmutated\u001b[0m \u001b[1;33m=\u001b[0m \u001b[0msplitter\u001b[0m\u001b[1;33m.\u001b[0m\u001b[0mfast_apply\u001b[0m\u001b[1;33m(\u001b[0m\u001b[0mf\u001b[0m\u001b[1;33m,\u001b[0m \u001b[0msdata\u001b[0m\u001b[1;33m,\u001b[0m \u001b[0mgroup_keys\u001b[0m\u001b[1;33m)\u001b[0m\u001b[1;33m\u001b[0m\u001b[1;33m\u001b[0m\u001b[0m\n\u001b[0m\u001b[0;32m    805\u001b[0m \u001b[1;33m\u001b[0m\u001b[0m\n\u001b[0;32m    806\u001b[0m             \u001b[1;32mexcept\u001b[0m \u001b[0mIndexError\u001b[0m\u001b[1;33m:\u001b[0m\u001b[1;33m\u001b[0m\u001b[1;33m\u001b[0m\u001b[0m\n",
      "\u001b[1;32m~\\anaconda3\\envs\\deep-learning-gpu\\lib\\site-packages\\pandas\\core\\groupby\\ops.py\u001b[0m in \u001b[0;36mfast_apply\u001b[1;34m(self, f, sdata, names)\u001b[0m\n\u001b[0;32m   1347\u001b[0m         \u001b[1;31m# must return keys::list, values::list, mutated::bool\u001b[0m\u001b[1;33m\u001b[0m\u001b[1;33m\u001b[0m\u001b[1;33m\u001b[0m\u001b[0m\n\u001b[0;32m   1348\u001b[0m         \u001b[0mstarts\u001b[0m\u001b[1;33m,\u001b[0m \u001b[0mends\u001b[0m \u001b[1;33m=\u001b[0m \u001b[0mlib\u001b[0m\u001b[1;33m.\u001b[0m\u001b[0mgenerate_slices\u001b[0m\u001b[1;33m(\u001b[0m\u001b[0mself\u001b[0m\u001b[1;33m.\u001b[0m\u001b[0mslabels\u001b[0m\u001b[1;33m,\u001b[0m \u001b[0mself\u001b[0m\u001b[1;33m.\u001b[0m\u001b[0mngroups\u001b[0m\u001b[1;33m)\u001b[0m\u001b[1;33m\u001b[0m\u001b[1;33m\u001b[0m\u001b[0m\n\u001b[1;32m-> 1349\u001b[1;33m         \u001b[1;32mreturn\u001b[0m \u001b[0mlibreduction\u001b[0m\u001b[1;33m.\u001b[0m\u001b[0mapply_frame_axis0\u001b[0m\u001b[1;33m(\u001b[0m\u001b[0msdata\u001b[0m\u001b[1;33m,\u001b[0m \u001b[0mf\u001b[0m\u001b[1;33m,\u001b[0m \u001b[0mnames\u001b[0m\u001b[1;33m,\u001b[0m \u001b[0mstarts\u001b[0m\u001b[1;33m,\u001b[0m \u001b[0mends\u001b[0m\u001b[1;33m)\u001b[0m\u001b[1;33m\u001b[0m\u001b[1;33m\u001b[0m\u001b[0m\n\u001b[0m\u001b[0;32m   1350\u001b[0m \u001b[1;33m\u001b[0m\u001b[0m\n\u001b[0;32m   1351\u001b[0m     \u001b[1;32mdef\u001b[0m \u001b[0m_chop\u001b[0m\u001b[1;33m(\u001b[0m\u001b[0mself\u001b[0m\u001b[1;33m,\u001b[0m \u001b[0msdata\u001b[0m\u001b[1;33m:\u001b[0m \u001b[0mDataFrame\u001b[0m\u001b[1;33m,\u001b[0m \u001b[0mslice_obj\u001b[0m\u001b[1;33m:\u001b[0m \u001b[0mslice\u001b[0m\u001b[1;33m)\u001b[0m \u001b[1;33m->\u001b[0m \u001b[0mDataFrame\u001b[0m\u001b[1;33m:\u001b[0m\u001b[1;33m\u001b[0m\u001b[1;33m\u001b[0m\u001b[0m\n",
      "\u001b[1;32m~\\anaconda3\\envs\\deep-learning-gpu\\lib\\site-packages\\pandas\\_libs\\reduction.pyx\u001b[0m in \u001b[0;36mpandas._libs.reduction.apply_frame_axis0\u001b[1;34m()\u001b[0m\n",
      "\u001b[1;32m~\\AppData\\Local\\Temp/ipykernel_14024/513270001.py\u001b[0m in \u001b[0;36mmax_delay_streak\u001b[1;34m(df)\u001b[0m\n\u001b[0;32m     13\u001b[0m     \u001b[0mfirst_idx\u001b[0m \u001b[1;33m=\u001b[0m \u001b[0mlast_idx\u001b[0m \u001b[1;33m-\u001b[0m \u001b[0mstreak\u001b[0m\u001b[1;33m.\u001b[0m\u001b[0mmax\u001b[0m\u001b[1;33m(\u001b[0m\u001b[1;33m)\u001b[0m \u001b[1;33m+\u001b[0m \u001b[1;36m1\u001b[0m\u001b[1;33m\u001b[0m\u001b[1;33m\u001b[0m\u001b[0m\n\u001b[0;32m     14\u001b[0m     res = (df\n\u001b[1;32m---> 15\u001b[1;33m         \u001b[1;33m.\u001b[0m\u001b[0mloc\u001b[0m\u001b[1;33m[\u001b[0m\u001b[1;33m[\u001b[0m\u001b[0mfirst_idx\u001b[0m\u001b[1;33m,\u001b[0m \u001b[0mlast_idx\u001b[0m\u001b[1;33m]\u001b[0m\u001b[1;33m,\u001b[0m \u001b[1;33m[\u001b[0m\u001b[1;34m'MONTH'\u001b[0m\u001b[1;33m,\u001b[0m \u001b[1;34m'DAY'\u001b[0m\u001b[1;33m]\u001b[0m\u001b[1;33m]\u001b[0m\u001b[1;33m\u001b[0m\u001b[1;33m\u001b[0m\u001b[0m\n\u001b[0m\u001b[0;32m     16\u001b[0m         \u001b[1;33m.\u001b[0m\u001b[0massign\u001b[0m\u001b[1;33m(\u001b[0m\u001b[0mstreak\u001b[0m\u001b[1;33m=\u001b[0m\u001b[0mstreak\u001b[0m\u001b[1;33m.\u001b[0m\u001b[0mmax\u001b[0m\u001b[1;33m(\u001b[0m\u001b[1;33m)\u001b[0m\u001b[1;33m)\u001b[0m\u001b[1;33m\u001b[0m\u001b[1;33m\u001b[0m\u001b[0m\n\u001b[0;32m     17\u001b[0m     )\n",
      "\u001b[1;32m~\\anaconda3\\envs\\deep-learning-gpu\\lib\\site-packages\\pandas\\core\\indexing.py\u001b[0m in \u001b[0;36m__getitem__\u001b[1;34m(self, key)\u001b[0m\n\u001b[0;32m    923\u001b[0m                 \u001b[1;32mwith\u001b[0m \u001b[0msuppress\u001b[0m\u001b[1;33m(\u001b[0m\u001b[0mKeyError\u001b[0m\u001b[1;33m,\u001b[0m \u001b[0mIndexError\u001b[0m\u001b[1;33m)\u001b[0m\u001b[1;33m:\u001b[0m\u001b[1;33m\u001b[0m\u001b[1;33m\u001b[0m\u001b[0m\n\u001b[0;32m    924\u001b[0m                     \u001b[1;32mreturn\u001b[0m \u001b[0mself\u001b[0m\u001b[1;33m.\u001b[0m\u001b[0mobj\u001b[0m\u001b[1;33m.\u001b[0m\u001b[0m_get_value\u001b[0m\u001b[1;33m(\u001b[0m\u001b[1;33m*\u001b[0m\u001b[0mkey\u001b[0m\u001b[1;33m,\u001b[0m \u001b[0mtakeable\u001b[0m\u001b[1;33m=\u001b[0m\u001b[0mself\u001b[0m\u001b[1;33m.\u001b[0m\u001b[0m_takeable\u001b[0m\u001b[1;33m)\u001b[0m\u001b[1;33m\u001b[0m\u001b[1;33m\u001b[0m\u001b[0m\n\u001b[1;32m--> 925\u001b[1;33m             \u001b[1;32mreturn\u001b[0m \u001b[0mself\u001b[0m\u001b[1;33m.\u001b[0m\u001b[0m_getitem_tuple\u001b[0m\u001b[1;33m(\u001b[0m\u001b[0mkey\u001b[0m\u001b[1;33m)\u001b[0m\u001b[1;33m\u001b[0m\u001b[1;33m\u001b[0m\u001b[0m\n\u001b[0m\u001b[0;32m    926\u001b[0m         \u001b[1;32melse\u001b[0m\u001b[1;33m:\u001b[0m\u001b[1;33m\u001b[0m\u001b[1;33m\u001b[0m\u001b[0m\n\u001b[0;32m    927\u001b[0m             \u001b[1;31m# we by definition only have the 0th axis\u001b[0m\u001b[1;33m\u001b[0m\u001b[1;33m\u001b[0m\u001b[1;33m\u001b[0m\u001b[0m\n",
      "\u001b[1;32m~\\anaconda3\\envs\\deep-learning-gpu\\lib\\site-packages\\pandas\\core\\indexing.py\u001b[0m in \u001b[0;36m_getitem_tuple\u001b[1;34m(self, tup)\u001b[0m\n\u001b[0;32m   1105\u001b[0m         \u001b[1;31m# ugly hack for GH #836\u001b[0m\u001b[1;33m\u001b[0m\u001b[1;33m\u001b[0m\u001b[1;33m\u001b[0m\u001b[0m\n\u001b[0;32m   1106\u001b[0m         \u001b[1;32mif\u001b[0m \u001b[0mself\u001b[0m\u001b[1;33m.\u001b[0m\u001b[0m_multi_take_opportunity\u001b[0m\u001b[1;33m(\u001b[0m\u001b[0mtup\u001b[0m\u001b[1;33m)\u001b[0m\u001b[1;33m:\u001b[0m\u001b[1;33m\u001b[0m\u001b[1;33m\u001b[0m\u001b[0m\n\u001b[1;32m-> 1107\u001b[1;33m             \u001b[1;32mreturn\u001b[0m \u001b[0mself\u001b[0m\u001b[1;33m.\u001b[0m\u001b[0m_multi_take\u001b[0m\u001b[1;33m(\u001b[0m\u001b[0mtup\u001b[0m\u001b[1;33m)\u001b[0m\u001b[1;33m\u001b[0m\u001b[1;33m\u001b[0m\u001b[0m\n\u001b[0m\u001b[0;32m   1108\u001b[0m \u001b[1;33m\u001b[0m\u001b[0m\n\u001b[0;32m   1109\u001b[0m         \u001b[1;32mreturn\u001b[0m \u001b[0mself\u001b[0m\u001b[1;33m.\u001b[0m\u001b[0m_getitem_tuple_same_dim\u001b[0m\u001b[1;33m(\u001b[0m\u001b[0mtup\u001b[0m\u001b[1;33m)\u001b[0m\u001b[1;33m\u001b[0m\u001b[1;33m\u001b[0m\u001b[0m\n",
      "\u001b[1;32m~\\anaconda3\\envs\\deep-learning-gpu\\lib\\site-packages\\pandas\\core\\indexing.py\u001b[0m in \u001b[0;36m_multi_take\u001b[1;34m(self, tup)\u001b[0m\n\u001b[0;32m   1059\u001b[0m         d = {\n\u001b[0;32m   1060\u001b[0m             \u001b[0maxis\u001b[0m\u001b[1;33m:\u001b[0m \u001b[0mself\u001b[0m\u001b[1;33m.\u001b[0m\u001b[0m_get_listlike_indexer\u001b[0m\u001b[1;33m(\u001b[0m\u001b[0mkey\u001b[0m\u001b[1;33m,\u001b[0m \u001b[0maxis\u001b[0m\u001b[1;33m)\u001b[0m\u001b[1;33m\u001b[0m\u001b[1;33m\u001b[0m\u001b[0m\n\u001b[1;32m-> 1061\u001b[1;33m             \u001b[1;32mfor\u001b[0m \u001b[1;33m(\u001b[0m\u001b[0mkey\u001b[0m\u001b[1;33m,\u001b[0m \u001b[0maxis\u001b[0m\u001b[1;33m)\u001b[0m \u001b[1;32min\u001b[0m \u001b[0mzip\u001b[0m\u001b[1;33m(\u001b[0m\u001b[0mtup\u001b[0m\u001b[1;33m,\u001b[0m \u001b[0mself\u001b[0m\u001b[1;33m.\u001b[0m\u001b[0mobj\u001b[0m\u001b[1;33m.\u001b[0m\u001b[0m_AXIS_ORDERS\u001b[0m\u001b[1;33m)\u001b[0m\u001b[1;33m\u001b[0m\u001b[1;33m\u001b[0m\u001b[0m\n\u001b[0m\u001b[0;32m   1062\u001b[0m         }\n\u001b[0;32m   1063\u001b[0m         \u001b[1;32mreturn\u001b[0m \u001b[0mself\u001b[0m\u001b[1;33m.\u001b[0m\u001b[0mobj\u001b[0m\u001b[1;33m.\u001b[0m\u001b[0m_reindex_with_indexers\u001b[0m\u001b[1;33m(\u001b[0m\u001b[0md\u001b[0m\u001b[1;33m,\u001b[0m \u001b[0mcopy\u001b[0m\u001b[1;33m=\u001b[0m\u001b[1;32mTrue\u001b[0m\u001b[1;33m,\u001b[0m \u001b[0mallow_dups\u001b[0m\u001b[1;33m=\u001b[0m\u001b[1;32mTrue\u001b[0m\u001b[1;33m)\u001b[0m\u001b[1;33m\u001b[0m\u001b[1;33m\u001b[0m\u001b[0m\n",
      "\u001b[1;32m~\\anaconda3\\envs\\deep-learning-gpu\\lib\\site-packages\\pandas\\core\\indexing.py\u001b[0m in \u001b[0;36m<dictcomp>\u001b[1;34m(.0)\u001b[0m\n\u001b[0;32m   1059\u001b[0m         d = {\n\u001b[0;32m   1060\u001b[0m             \u001b[0maxis\u001b[0m\u001b[1;33m:\u001b[0m \u001b[0mself\u001b[0m\u001b[1;33m.\u001b[0m\u001b[0m_get_listlike_indexer\u001b[0m\u001b[1;33m(\u001b[0m\u001b[0mkey\u001b[0m\u001b[1;33m,\u001b[0m \u001b[0maxis\u001b[0m\u001b[1;33m)\u001b[0m\u001b[1;33m\u001b[0m\u001b[1;33m\u001b[0m\u001b[0m\n\u001b[1;32m-> 1061\u001b[1;33m             \u001b[1;32mfor\u001b[0m \u001b[1;33m(\u001b[0m\u001b[0mkey\u001b[0m\u001b[1;33m,\u001b[0m \u001b[0maxis\u001b[0m\u001b[1;33m)\u001b[0m \u001b[1;32min\u001b[0m \u001b[0mzip\u001b[0m\u001b[1;33m(\u001b[0m\u001b[0mtup\u001b[0m\u001b[1;33m,\u001b[0m \u001b[0mself\u001b[0m\u001b[1;33m.\u001b[0m\u001b[0mobj\u001b[0m\u001b[1;33m.\u001b[0m\u001b[0m_AXIS_ORDERS\u001b[0m\u001b[1;33m)\u001b[0m\u001b[1;33m\u001b[0m\u001b[1;33m\u001b[0m\u001b[0m\n\u001b[0m\u001b[0;32m   1062\u001b[0m         }\n\u001b[0;32m   1063\u001b[0m         \u001b[1;32mreturn\u001b[0m \u001b[0mself\u001b[0m\u001b[1;33m.\u001b[0m\u001b[0mobj\u001b[0m\u001b[1;33m.\u001b[0m\u001b[0m_reindex_with_indexers\u001b[0m\u001b[1;33m(\u001b[0m\u001b[0md\u001b[0m\u001b[1;33m,\u001b[0m \u001b[0mcopy\u001b[0m\u001b[1;33m=\u001b[0m\u001b[1;32mTrue\u001b[0m\u001b[1;33m,\u001b[0m \u001b[0mallow_dups\u001b[0m\u001b[1;33m=\u001b[0m\u001b[1;32mTrue\u001b[0m\u001b[1;33m)\u001b[0m\u001b[1;33m\u001b[0m\u001b[1;33m\u001b[0m\u001b[0m\n",
      "\u001b[1;32m~\\anaconda3\\envs\\deep-learning-gpu\\lib\\site-packages\\pandas\\core\\indexing.py\u001b[0m in \u001b[0;36m_get_listlike_indexer\u001b[1;34m(self, key, axis)\u001b[0m\n\u001b[0;32m   1312\u001b[0m             \u001b[0mkeyarr\u001b[0m\u001b[1;33m,\u001b[0m \u001b[0mindexer\u001b[0m\u001b[1;33m,\u001b[0m \u001b[0mnew_indexer\u001b[0m \u001b[1;33m=\u001b[0m \u001b[0max\u001b[0m\u001b[1;33m.\u001b[0m\u001b[0m_reindex_non_unique\u001b[0m\u001b[1;33m(\u001b[0m\u001b[0mkeyarr\u001b[0m\u001b[1;33m)\u001b[0m\u001b[1;33m\u001b[0m\u001b[1;33m\u001b[0m\u001b[0m\n\u001b[0;32m   1313\u001b[0m \u001b[1;33m\u001b[0m\u001b[0m\n\u001b[1;32m-> 1314\u001b[1;33m         \u001b[0mself\u001b[0m\u001b[1;33m.\u001b[0m\u001b[0m_validate_read_indexer\u001b[0m\u001b[1;33m(\u001b[0m\u001b[0mkeyarr\u001b[0m\u001b[1;33m,\u001b[0m \u001b[0mindexer\u001b[0m\u001b[1;33m,\u001b[0m \u001b[0maxis\u001b[0m\u001b[1;33m)\u001b[0m\u001b[1;33m\u001b[0m\u001b[1;33m\u001b[0m\u001b[0m\n\u001b[0m\u001b[0;32m   1315\u001b[0m \u001b[1;33m\u001b[0m\u001b[0m\n\u001b[0;32m   1316\u001b[0m         if needs_i8_conversion(ax.dtype) or isinstance(\n",
      "\u001b[1;32m~\\anaconda3\\envs\\deep-learning-gpu\\lib\\site-packages\\pandas\\core\\indexing.py\u001b[0m in \u001b[0;36m_validate_read_indexer\u001b[1;34m(self, key, indexer, axis)\u001b[0m\n\u001b[0;32m   1375\u001b[0m \u001b[1;33m\u001b[0m\u001b[0m\n\u001b[0;32m   1376\u001b[0m             \u001b[0mnot_found\u001b[0m \u001b[1;33m=\u001b[0m \u001b[0mlist\u001b[0m\u001b[1;33m(\u001b[0m\u001b[0mensure_index\u001b[0m\u001b[1;33m(\u001b[0m\u001b[0mkey\u001b[0m\u001b[1;33m)\u001b[0m\u001b[1;33m[\u001b[0m\u001b[0mmissing_mask\u001b[0m\u001b[1;33m.\u001b[0m\u001b[0mnonzero\u001b[0m\u001b[1;33m(\u001b[0m\u001b[1;33m)\u001b[0m\u001b[1;33m[\u001b[0m\u001b[1;36m0\u001b[0m\u001b[1;33m]\u001b[0m\u001b[1;33m]\u001b[0m\u001b[1;33m.\u001b[0m\u001b[0munique\u001b[0m\u001b[1;33m(\u001b[0m\u001b[1;33m)\u001b[0m\u001b[1;33m)\u001b[0m\u001b[1;33m\u001b[0m\u001b[1;33m\u001b[0m\u001b[0m\n\u001b[1;32m-> 1377\u001b[1;33m             \u001b[1;32mraise\u001b[0m \u001b[0mKeyError\u001b[0m\u001b[1;33m(\u001b[0m\u001b[1;34mf\"{not_found} not in index\"\u001b[0m\u001b[1;33m)\u001b[0m\u001b[1;33m\u001b[0m\u001b[1;33m\u001b[0m\u001b[0m\n\u001b[0m\u001b[0;32m   1378\u001b[0m \u001b[1;33m\u001b[0m\u001b[0m\n\u001b[0;32m   1379\u001b[0m \u001b[1;33m\u001b[0m\u001b[0m\n",
      "\u001b[1;31mKeyError\u001b[0m: '[1.0] not in index'"
     ]
    }
   ],
   "source": [
    "(flights\n",
    "    .assign(ON_TIME=flights['ARR_DELAY'].lt(15).astype(int))\n",
    "    .sort_values(['MONTH', 'DAY', 'SCHED_DEP']) \n",
    "    .groupby(['AIRLINE', 'ORG_AIR']) \n",
    "    .apply(max_delay_streak) \n",
    "    .sort_values('streak', ascending=False)\n",
    ")"
   ]
  },
  {
   "cell_type": "code",
   "execution_count": null,
   "metadata": {
    "colab": {},
    "colab_type": "code",
    "id": "jFmB4-pBjlhu"
   },
   "outputs": [],
   "source": []
  }
 ],
 "metadata": {
  "colab": {
   "collapsed_sections": [
    "59fSE80tjld5",
    "kUXqtg6FjleH",
    "WpJrtPYUjleJ",
    "Kn4yXGgcjlex",
    "hc0NLQqNjley",
    "v-tdZqBgjle5",
    "Z1kpZWqIjlfA",
    "zNomWi5njlfA",
    "scn0mxSTjlfL",
    "gR-Y_9yNjlfX",
    "JorgS-0rjlfX",
    "C-wlhnWSjlfd",
    "_7wuprDMjlfx",
    "zSeuspYOjlfy",
    "spPMR-V1jlf1",
    "kGGRk2wDjlgF",
    "rTXqUOKXjlgG",
    "TYHloLJnjlgP",
    "kUj6A0pXjlgi",
    "2zJf0s7Cjlgl",
    "5MZv6C3Yjlgp",
    "2zEmWgYCjlg3",
    "31efInTjjlg6",
    "X17i7IPJjlg-",
    "0ysrgFzZjlhF",
    "N0Yic1sCjlhG",
    "NJJ_Yg4JjlhW",
    "sPmplQX3jlhq"
   ],
   "name": "c9-code.ipynb",
   "provenance": []
  },
  "jupytext": {
   "cell_metadata_filter": "-all",
   "main_language": "python",
   "notebook_metadata_filter": "-all"
  },
  "kernelspec": {
   "display_name": "Python 3 (ipykernel)",
   "language": "python",
   "name": "python3"
  },
  "language_info": {
   "codemirror_mode": {
    "name": "ipython",
    "version": 3
   },
   "file_extension": ".py",
   "mimetype": "text/x-python",
   "name": "python",
   "nbconvert_exporter": "python",
   "pygments_lexer": "ipython3",
   "version": "3.7.2"
  }
 },
 "nbformat": 4,
 "nbformat_minor": 1
}
